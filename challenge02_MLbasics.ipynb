{
 "cells": [
  {
   "cell_type": "markdown",
   "metadata": {},
   "source": [
    "# Machine Learning workflow\n",
    "\n",
    "by Anaïs Pepey\n",
    "\n",
    "🦟 In this notebook, we will import open data and apply basic machine learning concepts to analyse the relationship between different variables related to malaria. \n",
    "\n",
    "🗣️ Please call Asia or Anaïs if you feel stuck or have any question!\n",
    "\n",
    "🐍 Happy coding!"
   ]
  },
  {
   "cell_type": "markdown",
   "metadata": {},
   "source": [
    "## Import libraries"
   ]
  },
  {
   "cell_type": "markdown",
   "metadata": {},
   "source": [
    "### all-time basics"
   ]
  },
  {
   "cell_type": "code",
   "execution_count": null,
   "metadata": {},
   "outputs": [],
   "source": [
    "# Data manipulation\n",
    "import pandas as pd\n",
    "import numpy as np\n",
    "# Data visualisation\n",
    "import matplotlib.pyplot as plt\n",
    "import seaborn as sns"
   ]
  },
  {
   "cell_type": "markdown",
   "metadata": {},
   "source": [
    "### machine learning specifics"
   ]
  },
  {
   "cell_type": "code",
   "execution_count": null,
   "metadata": {},
   "outputs": [],
   "source": [
    "from sklearn.linear_model import LinearRegression, Ridge\n",
    "from sklearn.preprocessing import PolynomialFeatures\n",
    "from sklearn.model_selection import train_test_split, cross_val_score"
   ]
  },
  {
   "cell_type": "markdown",
   "metadata": {},
   "source": [
    "## 0. Data Exploration and Visualisation"
   ]
  },
  {
   "cell_type": "markdown",
   "metadata": {},
   "source": [
    "### Understanding our data"
   ]
  },
  {
   "cell_type": "markdown",
   "metadata": {},
   "source": [
    "🌏 Let's have a look at this data provided by the [World Bank Open Data Page](https://data.worldbank.org/) for the year 2020."
   ]
  },
  {
   "cell_type": "code",
   "execution_count": null,
   "metadata": {},
   "outputs": [],
   "source": [
    "df = pd.read_csv(\"./data/workshop/worldbank-df.csv\")\n"
   ]
  },
  {
   "cell_type": "markdown",
   "metadata": {},
   "source": [
    "👇 Display the first five rows of the dataframe `df`."
   ]
  },
  {
   "cell_type": "code",
   "execution_count": null,
   "metadata": {},
   "outputs": [],
   "source": [
    "# type, uncomment and run your code here"
   ]
  },
  {
   "cell_type": "markdown",
   "metadata": {},
   "source": [
    "<details><summary markdown='span'>View solution\n",
    "</summary>\n",
    "\n",
    "```python\n",
    "df.head()\n",
    "```\n",
    "\n",
    "</details>"
   ]
  },
  {
   "cell_type": "markdown",
   "metadata": {},
   "source": [
    "🎲 We can also look at random rows, instead of the first 5:"
   ]
  },
  {
   "cell_type": "code",
   "execution_count": null,
   "metadata": {},
   "outputs": [],
   "source": [
    "df.sample(5)"
   ]
  },
  {
   "cell_type": "markdown",
   "metadata": {},
   "source": [
    "If you re-run the cell, you will obtain 5 different rows. Try it!"
   ]
  },
  {
   "cell_type": "markdown",
   "metadata": {},
   "source": [
    "Python simplifies our work by providing core functions.\n",
    "\n",
    "👇 Run the function below to have a look at the shape of the dataframe, which will return its `(number of rows, number of columns)`."
   ]
  },
  {
   "cell_type": "code",
   "execution_count": null,
   "metadata": {},
   "outputs": [],
   "source": [
    "df.shape"
   ]
  },
  {
   "cell_type": "markdown",
   "metadata": {},
   "source": [
    "The dataframe `df` includes 214 rows and 13 columns. It is small by machine learning standards!"
   ]
  },
  {
   "cell_type": "markdown",
   "metadata": {},
   "source": [
    "👇 We can also peek at the first 5 rows:"
   ]
  },
  {
   "cell_type": "code",
   "execution_count": null,
   "metadata": {},
   "outputs": [],
   "source": [
    "df.head()"
   ]
  },
  {
   "cell_type": "markdown",
   "metadata": {},
   "source": [
    "👇 Run the function below to get a quick glance at the distribution of numerical variables accross the whole dataset. "
   ]
  },
  {
   "cell_type": "code",
   "execution_count": null,
   "metadata": {},
   "outputs": [],
   "source": [
    "df.describe()"
   ]
  },
  {
   "cell_type": "markdown",
   "metadata": {},
   "source": [
    "👇 Run the function below to do the same for a specific column. "
   ]
  },
  {
   "cell_type": "code",
   "execution_count": null,
   "metadata": {},
   "outputs": [],
   "source": [
    "df[\"incidence_per_1000\"].describe()"
   ]
  },
  {
   "cell_type": "markdown",
   "metadata": {},
   "source": [
    "❓ How would you look at the details of the `life_expectancy` column?"
   ]
  },
  {
   "cell_type": "code",
   "execution_count": null,
   "metadata": {},
   "outputs": [],
   "source": [
    "# type, uncomment and run your code here"
   ]
  },
  {
   "cell_type": "markdown",
   "metadata": {},
   "source": [
    "<details><summary markdown='span'>View solution\n",
    "</summary>\n",
    "\n",
    "```python\n",
    "df[\"life_expectancy\"].describe()\n",
    "```\n",
    "\n",
    "</details>"
   ]
  },
  {
   "cell_type": "markdown",
   "metadata": {},
   "source": [
    "❓ What is the mean value of access to electricity?"
   ]
  },
  {
   "cell_type": "code",
   "execution_count": null,
   "metadata": {},
   "outputs": [],
   "source": [
    "mean_elec = df['access_electricity'].mean()\n",
    "mean_elec"
   ]
  },
  {
   "cell_type": "markdown",
   "metadata": {},
   "source": [
    "👇 We can round the number to the amount of decimal we require, for example only one decimal:"
   ]
  },
  {
   "cell_type": "code",
   "execution_count": null,
   "metadata": {},
   "outputs": [],
   "source": [
    "n_decimal = 1"
   ]
  },
  {
   "cell_type": "code",
   "execution_count": null,
   "metadata": {},
   "outputs": [],
   "source": [
    "round(mean_elec, n_decimal)"
   ]
  },
  {
   "cell_type": "markdown",
   "metadata": {},
   "source": [
    "👇  We can create sentences that integrate variables. Take a minute to understand every element of the cell below:"
   ]
  },
  {
   "cell_type": "code",
   "execution_count": null,
   "metadata": {},
   "outputs": [],
   "source": [
    "var1 = round(df['rural_pop'].min(), n_decimal)\n",
    "var2 = round(df['rural_pop'].max(), n_decimal)\n",
    "\n",
    "print(f\"In 2020, depending on the country, between {var1} and {var2}% of the population lived in rural areas.\")"
   ]
  },
  {
   "cell_type": "markdown",
   "metadata": {},
   "source": [
    "❓ Can you find the maximum value of malaria incidence? Store it under the `max_malaria` variable. "
   ]
  },
  {
   "cell_type": "code",
   "execution_count": null,
   "metadata": {},
   "outputs": [],
   "source": [
    "# type, uncomment and run your code here"
   ]
  },
  {
   "cell_type": "markdown",
   "metadata": {},
   "source": [
    "<details><summary markdown='span'>View solution\n",
    "</summary>\n",
    "\n",
    "```python\n",
    "max_malaria = df['incidence_per_1000'].max()\n",
    "max_malaria\n",
    "```\n",
    "\n",
    "</details>"
   ]
  },
  {
   "cell_type": "markdown",
   "metadata": {},
   "source": [
    "👇 Another easy method to see which countries harbour the most malaria cases is to sort the dataframe:"
   ]
  },
  {
   "cell_type": "code",
   "execution_count": null,
   "metadata": {},
   "outputs": [],
   "source": [
    "df.sort_values(by='incidence_per_1000', ascending=False)"
   ]
  },
  {
   "cell_type": "markdown",
   "metadata": {},
   "source": [
    "👇 We can also choose to display the ten countries with the highest malaria incidence:"
   ]
  },
  {
   "cell_type": "code",
   "execution_count": null,
   "metadata": {},
   "outputs": [],
   "source": [
    "df.sort_values(by='incidence_per_1000', ascending=False)[:10]"
   ]
  },
  {
   "cell_type": "markdown",
   "metadata": {},
   "source": [
    "### Plotting our data"
   ]
  },
  {
   "cell_type": "markdown",
   "metadata": {},
   "source": [
    "📈 A good practice is to plot the data to understand better the relationship between the different variables. \n",
    "\n",
    "👇 Run the function below to create a scatterplot."
   ]
  },
  {
   "cell_type": "code",
   "execution_count": null,
   "metadata": {},
   "outputs": [],
   "source": [
    "sns.scatterplot(x='life_expectancy', y='incidence_per_1000', data=df, alpha=0.5, hue = \"continent\");"
   ]
  },
  {
   "cell_type": "markdown",
   "metadata": {},
   "source": [
    "📊 We can plot to relation between the two variables:"
   ]
  },
  {
   "cell_type": "code",
   "execution_count": null,
   "metadata": {},
   "outputs": [],
   "source": [
    "sns.scatterplot(x='life_expectancy', y='incidence_per_1000', data=df, alpha=0.5);\n",
    "sns.regplot(x='life_expectancy', y='incidence_per_1000', data=df, scatter=False, color = 'red')"
   ]
  },
  {
   "cell_type": "markdown",
   "metadata": {},
   "source": [
    "### Plot like a pro!\n",
    "📈 Let's see all the relationships between our columns:"
   ]
  },
  {
   "cell_type": "code",
   "execution_count": null,
   "metadata": {},
   "outputs": [],
   "source": [
    "sns.pairplot(df, hue = 'continent', corner = True); #might require a few seconds to load"
   ]
  },
  {
   "cell_type": "markdown",
   "metadata": {},
   "source": [
    "## 1. Data preparation"
   ]
  },
  {
   "cell_type": "markdown",
   "metadata": {},
   "source": [
    "### Data cleaning"
   ]
  },
  {
   "cell_type": "markdown",
   "metadata": {},
   "source": [
    "🧼 Let's save the initial shape of our dataframe to see how it evolves through cleaning. "
   ]
  },
  {
   "cell_type": "code",
   "execution_count": null,
   "metadata": {},
   "outputs": [],
   "source": [
    "initial_shape = df.shape\n",
    "initial_shape"
   ]
  },
  {
   "cell_type": "markdown",
   "metadata": {},
   "source": [
    "Before using the dataset, we need to make sure it is usable. \n",
    "\n",
    "👇 First, we clean all the NA (Non Applicable) values."
   ]
  },
  {
   "cell_type": "code",
   "execution_count": null,
   "metadata": {},
   "outputs": [],
   "source": [
    "df_test = df.dropna()\n",
    "noNA_shape = df_test.shape\n",
    "\n",
    "print(f\"The dataset size went from {initial_shape} to {noNA_shape} after cleaning all NAs.\")"
   ]
  },
  {
   "cell_type": "markdown",
   "metadata": {},
   "source": [
    "😱 Oh, no! We lost a significant amount of data. Let's understand where those NAs are."
   ]
  },
  {
   "cell_type": "code",
   "execution_count": null,
   "metadata": {},
   "outputs": [],
   "source": [
    "df.isna().sum()"
   ]
  },
  {
   "cell_type": "markdown",
   "metadata": {},
   "source": [
    "😌 It seems like only two columns are responsible for the most NAs. Let's delete those."
   ]
  },
  {
   "cell_type": "code",
   "execution_count": null,
   "metadata": {},
   "outputs": [],
   "source": [
    "cols_to_remove = [\"population\", \"pop_growth\"]\n",
    "\n",
    "df_cleaned = df.drop(columns = cols_to_remove)\n",
    "df_cleaned.head()"
   ]
  },
  {
   "cell_type": "code",
   "execution_count": null,
   "metadata": {},
   "outputs": [],
   "source": [
    "df_cleaned.isna().sum()"
   ]
  },
  {
   "cell_type": "markdown",
   "metadata": {},
   "source": [
    "🤗 Much better! Now we can delete the rows containing NAs without losing so much data."
   ]
  },
  {
   "cell_type": "code",
   "execution_count": null,
   "metadata": {},
   "outputs": [],
   "source": [
    "df_cleaned = df_cleaned.dropna()\n",
    "df_cleaned.shape"
   ]
  },
  {
   "cell_type": "markdown",
   "metadata": {},
   "source": [
    "👇 Then, we remove all duplicate values (if any)."
   ]
  },
  {
   "cell_type": "code",
   "execution_count": null,
   "metadata": {},
   "outputs": [],
   "source": [
    "df_cleaned = df_cleaned.drop_duplicates()"
   ]
  },
  {
   "cell_type": "markdown",
   "metadata": {},
   "source": [
    "In real life, cleaning data includes [a lot more steps](https://towardsdatascience.com/clean-efficient-data-pipelines-with-pythons-sklearn-2472de04c0ea) and can get tricky.\n",
    "\n",
    "Cleaning and preprocessing data can be the longest part of the process and can be considered the most important one. "
   ]
  },
  {
   "cell_type": "markdown",
   "metadata": {},
   "source": [
    "## 2. Model training"
   ]
  },
  {
   "cell_type": "markdown",
   "metadata": {},
   "source": [
    "### Choosing your model"
   ]
  },
  {
   "cell_type": "markdown",
   "metadata": {},
   "source": [
    "We start with the easiest model of them all: the linear regression, imported at the beginning on the notebook from the [Scikit-Learn](https://scikit-learn.org) library. "
   ]
  },
  {
   "cell_type": "markdown",
   "metadata": {},
   "source": [
    "<details><summary markdown='span'>Additional info\n",
    "</summary>\n",
    "\n",
    "  Scikit-Learn is an open source, well documented and honestly life saving initiative for all mahcine learning enthusiasts. \n",
    "  Do not hesitate to read their [documentation](https://scikit-learn.org/stable/user_guide.html) and explore their [tutorials](https://scikit-learn.org/stable/auto_examples/index.html). \n",
    "\n",
    "  A linear regression is a mathematical model that can be written as f(x) = ax + b\n",
    "  where a is the slope and b is the intercept. \n",
    "</details>\n"
   ]
  },
  {
   "cell_type": "code",
   "execution_count": null,
   "metadata": {},
   "outputs": [],
   "source": [
    "model = LinearRegression()"
   ]
  },
  {
   "cell_type": "markdown",
   "metadata": {},
   "source": [
    "👇 The model is now loaded under the `model` variable:"
   ]
  },
  {
   "cell_type": "code",
   "execution_count": null,
   "metadata": {},
   "outputs": [],
   "source": [
    "model"
   ]
  },
  {
   "cell_type": "markdown",
   "metadata": {},
   "source": [
    "### Defining the feature and the target"
   ]
  },
  {
   "cell_type": "markdown",
   "metadata": {},
   "source": [
    "Let's start with a simple model."
   ]
  },
  {
   "cell_type": "markdown",
   "metadata": {},
   "source": [
    "We assume that malaria incidence can be predicted with the life expectancy of a country.\n",
    "\n",
    "👇 We define that our feature `X` is `life_expectancy` and our target `y` is `incidence_per_1000`."
   ]
  },
  {
   "cell_type": "code",
   "execution_count": null,
   "metadata": {},
   "outputs": [],
   "source": [
    "X = df_cleaned[['life_expectancy']]\n",
    "y = df_cleaned[['incidence_per_1000']]\n",
    "\n",
    "plt.scatter(X, y, alpha = 0.2)"
   ]
  },
  {
   "cell_type": "markdown",
   "metadata": {},
   "source": [
    "### Reserving some data for validation"
   ]
  },
  {
   "cell_type": "markdown",
   "metadata": {},
   "source": [
    "⚡ This is a very important step!\n",
    "\n",
    "To be able to properly assess the efficacy of our model, we should keep some data 'unseen'.\n",
    "It means dividing the dataset into a `training` part and a `testing` part. \n",
    "\n",
    "Steps:\n",
    "1. the model learns on some part of the dataset\n",
    "2. the model predicts using the other part: it uses the feature(s) `X` to make a prediction of the target `y`. \n",
    "3. we compare the prediction and the true values"
   ]
  },
  {
   "cell_type": "markdown",
   "metadata": {},
   "source": [
    "👇  We first choose the proportion of data kept for `testing`. It is usually 0.2 or 0.3, meaning 20 or 30%, selected at random. "
   ]
  },
  {
   "cell_type": "code",
   "execution_count": null,
   "metadata": {},
   "outputs": [],
   "source": [
    "size = 0.3"
   ]
  },
  {
   "cell_type": "code",
   "execution_count": null,
   "metadata": {},
   "outputs": [],
   "source": [
    "X_train, X_test, y_train, y_test = train_test_split(X, y, test_size = size)\n"
   ]
  },
  {
   "cell_type": "code",
   "execution_count": null,
   "metadata": {},
   "outputs": [],
   "source": [
    "X_train.head()"
   ]
  },
  {
   "cell_type": "code",
   "execution_count": null,
   "metadata": {},
   "outputs": [],
   "source": [
    "y_train.head()"
   ]
  },
  {
   "cell_type": "markdown",
   "metadata": {},
   "source": [
    "❓ What do you expect the approximative shapes of `X_test` and `y_test` will be?\n",
    "\n",
    "👇 Print the shapes of `X_test` and `y_test` below."
   ]
  },
  {
   "cell_type": "code",
   "execution_count": null,
   "metadata": {},
   "outputs": [],
   "source": [
    "# type, uncomment and run your code here"
   ]
  },
  {
   "cell_type": "markdown",
   "metadata": {},
   "source": [
    "<details><summary markdown='span'>View solution\n",
    "</summary>\n",
    "\n",
    "```python\n",
    "print(X_test.shape, y_test.shape)\n",
    "```\n",
    "\n",
    "</details>"
   ]
  },
  {
   "cell_type": "markdown",
   "metadata": {},
   "source": [
    "### Fitting your model"
   ]
  },
  {
   "cell_type": "markdown",
   "metadata": {},
   "source": [
    "👇 We make the model learn from the `training` dataset:"
   ]
  },
  {
   "cell_type": "code",
   "execution_count": null,
   "metadata": {},
   "outputs": [],
   "source": [
    "model_fitted = model.fit(X_train, y_train)\n",
    "\n",
    "plt.scatter(X_train, y_train, alpha = 0.2)"
   ]
  },
  {
   "cell_type": "markdown",
   "metadata": {},
   "source": [
    "# 3. Model prediction"
   ]
  },
  {
   "cell_type": "markdown",
   "metadata": {},
   "source": [
    "👇 Then, we can ask the model to predict malaria incidence values `y` from the the values of life expectancy `X` it has not seen before. "
   ]
  },
  {
   "cell_type": "code",
   "execution_count": null,
   "metadata": {},
   "outputs": [],
   "source": [
    "prediction = model_fitted.predict(X_test)"
   ]
  },
  {
   "cell_type": "markdown",
   "metadata": {},
   "source": [
    "👇 Here, we can see the predicted values calculated from `X_test` in red, against the actual values from `X_train`, `y_train` in blue."
   ]
  },
  {
   "cell_type": "code",
   "execution_count": null,
   "metadata": {},
   "outputs": [],
   "source": [
    "plt.scatter(X_train, y_train, alpha = .2),\n",
    "plt.scatter(X_test, prediction, alpha = .2, color = 'red')"
   ]
  },
  {
   "cell_type": "markdown",
   "metadata": {},
   "source": [
    "🤔 It seems that our model is not doing an excellent job...\n",
    "\n",
    "👇 But how much of a bad prediction is that? Let's measure it!"
   ]
  },
  {
   "cell_type": "markdown",
   "metadata": {},
   "source": [
    "## 4. Model evaluation"
   ]
  },
  {
   "cell_type": "markdown",
   "metadata": {},
   "source": [
    "### R2 score"
   ]
  },
  {
   "cell_type": "code",
   "execution_count": null,
   "metadata": {},
   "outputs": [],
   "source": [
    "model_score_baseline = model_fitted.score(X_test, y_test)\n",
    "print(\"Model R2 score:\", round(model_score_baseline, 2))"
   ]
  },
  {
   "cell_type": "markdown",
   "metadata": {},
   "source": [
    "<details><summary markdown='span'>What is the R2 score?\n",
    "</summary>\n",
    "\n",
    "In linear regression, the R-squared score (also known as the coefficient of determination) measures the proportion of the variance in the dependent variable that is predictable from the independent variable(s).\n",
    "\n",
    "A higher R-squared score indicates that the model explains a larger portion of the variability in the dependent variable, suggesting a stronger relationship between the independent and dependent variables.\n",
    "</details>"
   ]
  },
  {
   "cell_type": "markdown",
   "metadata": {},
   "source": [
    "### Accuracy"
   ]
  },
  {
   "cell_type": "code",
   "execution_count": null,
   "metadata": {},
   "outputs": [],
   "source": [
    "accuracy_baseline = cross_val_score(model_fitted, X_train, y_train).mean()\n",
    "print(\"Model accuracy:\", round(accuracy_baseline, 2))"
   ]
  },
  {
   "cell_type": "markdown",
   "metadata": {},
   "source": [
    "<details><summary markdown='span'>What is accuracy?\n",
    "</summary>\n",
    "\n",
    "Model accuracy is defined as the percentage of correct classifications made by the model, calculated by dividing the number of correct predictions by the total number of predictions across all classes. \n",
    "\n",
    "This metric is expressed as a value between 0 and 1 (or 0% and 100%), where 0 indicates the model always predicts incorrectly, and 1 (or 100%) signifies that it always predicts correctly.\n",
    "\n",
    "</details>"
   ]
  },
  {
   "cell_type": "markdown",
   "metadata": {},
   "source": [
    "👇 We will now try to improve our model and increase the scores, which are currently low."
   ]
  },
  {
   "cell_type": "markdown",
   "metadata": {},
   "source": [
    "# 5. Improving the model"
   ]
  },
  {
   "cell_type": "markdown",
   "metadata": {},
   "source": [
    "## Option 1: More features"
   ]
  },
  {
   "cell_type": "markdown",
   "metadata": {},
   "source": [
    "### Defining the features"
   ]
  },
  {
   "cell_type": "markdown",
   "metadata": {},
   "source": [
    "🔁 We can repeat this workflow, including more variables from our dataset. \n",
    "To do so, we change our features `X` to include more columns, and we keep `y` as is. "
   ]
  },
  {
   "cell_type": "code",
   "execution_count": null,
   "metadata": {},
   "outputs": [],
   "source": [
    "Xs = df_cleaned[['life_expectancy', 'forest_area', 'rural_pop', 'access_electricity', 'GDP_growth', 'working_age_pop']]\n",
    "y = df_cleaned[['incidence_per_1000']]"
   ]
  },
  {
   "cell_type": "code",
   "execution_count": null,
   "metadata": {},
   "outputs": [],
   "source": [
    "X_train, X_test, y_train, y_test = train_test_split(Xs, y, test_size = size)\n"
   ]
  },
  {
   "cell_type": "code",
   "execution_count": null,
   "metadata": {},
   "outputs": [],
   "source": [
    "X_train.head()"
   ]
  },
  {
   "cell_type": "markdown",
   "metadata": {},
   "source": [
    "👇 The shape of our features `X` will now be different from before:"
   ]
  },
  {
   "cell_type": "code",
   "execution_count": null,
   "metadata": {},
   "outputs": [],
   "source": [
    "X_train.shape"
   ]
  },
  {
   "cell_type": "markdown",
   "metadata": {},
   "source": [
    "👇  However, `y_train` remains the same:"
   ]
  },
  {
   "cell_type": "code",
   "execution_count": null,
   "metadata": {},
   "outputs": [],
   "source": [
    "y_train.shape"
   ]
  },
  {
   "cell_type": "markdown",
   "metadata": {},
   "source": [
    "### Fitting the model "
   ]
  },
  {
   "cell_type": "code",
   "execution_count": null,
   "metadata": {},
   "outputs": [],
   "source": [
    "model_fitted2 = model.fit(X_train, y_train)"
   ]
  },
  {
   "cell_type": "markdown",
   "metadata": {},
   "source": [
    "### Evaluating the model"
   ]
  },
  {
   "cell_type": "code",
   "execution_count": null,
   "metadata": {},
   "outputs": [],
   "source": [
    "model_score2 = model_fitted2.score(X_test, y_test)\n",
    "print(\"Model R2 score:\", round(model_score2, 2))"
   ]
  },
  {
   "cell_type": "code",
   "execution_count": null,
   "metadata": {},
   "outputs": [],
   "source": [
    "accuracy2 = cross_val_score(model_fitted2, X_train, y_train).mean()\n",
    "print(\"Model accuracy:\", round(accuracy2, 2))"
   ]
  },
  {
   "cell_type": "markdown",
   "metadata": {},
   "source": [
    "🙌 Our model improved!\n",
    "\n",
    "There is still a long way to go, but you get the gist..."
   ]
  },
  {
   "cell_type": "markdown",
   "metadata": {},
   "source": [
    "### Prediction"
   ]
  },
  {
   "cell_type": "markdown",
   "metadata": {},
   "source": [
    "Let's compare the updated prediction to the previous one: "
   ]
  },
  {
   "cell_type": "markdown",
   "metadata": {},
   "source": [
    "🔮 First by making a new `prediction` with the `testing` data:"
   ]
  },
  {
   "cell_type": "code",
   "execution_count": null,
   "metadata": {},
   "outputs": [],
   "source": [
    "prediction2 = model_fitted.predict(X_test)"
   ]
  },
  {
   "cell_type": "markdown",
   "metadata": {},
   "source": [
    "📊 Then creating the plot by choosing the `life expectancy` variable:"
   ]
  },
  {
   "cell_type": "code",
   "execution_count": null,
   "metadata": {},
   "outputs": [],
   "source": [
    "plt.scatter(X_train['life_expectancy'], y_train, alpha = .2),\n",
    "plt.scatter(X_test['life_expectancy'], prediction2, alpha = .2, color = 'red')"
   ]
  },
  {
   "cell_type": "markdown",
   "metadata": {},
   "source": [
    "How would you plot the `prediction` of the malaria incidence `y` against an other variable, such as `working_age_pop`? "
   ]
  },
  {
   "cell_type": "code",
   "execution_count": null,
   "metadata": {},
   "outputs": [],
   "source": [
    "# type, uncomment and run your code here"
   ]
  },
  {
   "cell_type": "markdown",
   "metadata": {},
   "source": [
    "<details><summary markdown='span'>View solution\n",
    "</summary>\n",
    "plt.scatter(X_train['working_age_pop'], y_train, alpha = .2),\n",
    "plt.scatter(X_test['life_expectancy'], prediction2, alpha = .2, color = 'red')\n",
    "</details>"
   ]
  },
  {
   "cell_type": "markdown",
   "metadata": {},
   "source": [
    "### Features importance"
   ]
  },
  {
   "cell_type": "markdown",
   "metadata": {},
   "source": [
    "📊 Let's plot the importance of each feature:"
   ]
  },
  {
   "cell_type": "markdown",
   "metadata": {},
   "source": [
    "First we create a dataframe that includes the name of the `features` and their respective `importance` in the `model`:"
   ]
  },
  {
   "cell_type": "code",
   "execution_count": null,
   "metadata": {},
   "outputs": [],
   "source": [
    "features = pd.DataFrame(X_train.columns)\n",
    "features.columns = ['features']\n",
    "\n",
    "importance = pd.DataFrame(abs(model_fitted2.coef_.T))\n",
    "importance.columns = ['importance']\n",
    "\n",
    "result = pd.concat([features, importance], axis=1).sort_values(by='importance', ascending = False)"
   ]
  },
  {
   "cell_type": "markdown",
   "metadata": {},
   "source": [
    "📉 Then we plot:"
   ]
  },
  {
   "cell_type": "code",
   "execution_count": null,
   "metadata": {},
   "outputs": [],
   "source": [
    "ax = sns.barplot(x = 'features', y = 'importance', hue = 'features', data = result)\n",
    "ax.tick_params(axis = 'x', rotation = 90)"
   ]
  },
  {
   "cell_type": "markdown",
   "metadata": {},
   "source": [
    "❓ Which feature was the most important?\n",
    "\n",
    "👇  Uncomment and complete the code below."
   ]
  },
  {
   "cell_type": "code",
   "execution_count": null,
   "metadata": {},
   "outputs": [],
   "source": [
    "# most_important_feature = ?"
   ]
  },
  {
   "cell_type": "markdown",
   "metadata": {},
   "source": [
    "If you made it this far, great!\n",
    "\n",
    "The rest of the notebook is optional, you can keep going if you have plenty of time or keep them for later (or never!), they will stay online and openly available."
   ]
  },
  {
   "cell_type": "markdown",
   "metadata": {},
   "source": [
    "### Option 2: A different model"
   ]
  },
  {
   "cell_type": "markdown",
   "metadata": {},
   "source": [
    "### Ridge Regression"
   ]
  },
  {
   "cell_type": "markdown",
   "metadata": {},
   "source": [
    "Let's import a different model from Sickit-Learn: the <b>Ridge</b>.\n",
    "\n",
    "<details><summary markdown='span'>About Ridge\n",
    "</summary>\n",
    "The primary difference between Ridge Regression and Linear Regression in scikit-learn lies in the addition of a regularization term in Ridge Regression, which helps prevent overfitting by penalizing large coefficients.\n",
    "\n",
    "</details>"
   ]
  },
  {
   "cell_type": "code",
   "execution_count": null,
   "metadata": {},
   "outputs": [],
   "source": [
    "model_ridge = Ridge()\n",
    "model_ridge"
   ]
  },
  {
   "cell_type": "markdown",
   "metadata": {},
   "source": [
    "👇 Fit `model ridge` to `(X_train, y_train)` and save the fitted model as `model_fitted3`"
   ]
  },
  {
   "cell_type": "code",
   "execution_count": null,
   "metadata": {},
   "outputs": [],
   "source": [
    "# type, uncomment and run your code here"
   ]
  },
  {
   "cell_type": "markdown",
   "metadata": {},
   "source": [
    "<details><summary markdown='span'>View solution\n",
    "</summary>\n",
    "\n",
    "```python\n",
    "model_fitted3 = model_ridge.fit(X_train, y_train)\n",
    "```\n",
    "\n",
    "</details>"
   ]
  },
  {
   "cell_type": "markdown",
   "metadata": {},
   "source": [
    "👇 Calculate the R2 score and save the result as `model_score3`: "
   ]
  },
  {
   "cell_type": "code",
   "execution_count": null,
   "metadata": {},
   "outputs": [],
   "source": [
    "# type, uncomment and run your code here"
   ]
  },
  {
   "cell_type": "markdown",
   "metadata": {},
   "source": [
    "<details><summary markdown='span'>View solution\n",
    "</summary>\n",
    "\n",
    "```python\n",
    "model_score3 = model_fitted3.score(X_test, y_test)\n",
    "```\n",
    "\n",
    "</details>"
   ]
  },
  {
   "cell_type": "markdown",
   "metadata": {},
   "source": [
    "👇 Calculate the model accuracy and save the result as `accuracy3`: "
   ]
  },
  {
   "cell_type": "code",
   "execution_count": null,
   "metadata": {},
   "outputs": [],
   "source": [
    "# type, uncomment and run your code here"
   ]
  },
  {
   "cell_type": "markdown",
   "metadata": {},
   "source": [
    "<details><summary markdown='span'>View solution\n",
    "</summary>\n",
    "\n",
    "```python\n",
    "accuracy3 = cross_val_score(model_fitted3, X_train, y_train).mean()\n",
    "```\n",
    "\n",
    "</details>"
   ]
  },
  {
   "cell_type": "markdown",
   "metadata": {},
   "source": [
    "This model should be more accurate than the baseline one. Run the cell below to verify:"
   ]
  },
  {
   "cell_type": "code",
   "execution_count": null,
   "metadata": {},
   "outputs": [],
   "source": [
    "if model_score3 > model_score_baseline and accuracy3 > accuracy_baseline:\n",
    "    print(\"This model performs better than the baseline one. All correct!\")\n",
    "else:\n",
    "    print(\"Something's not right... Have a look at your code to correct it or call Anaïs/ Asia!\")"
   ]
  },
  {
   "cell_type": "markdown",
   "metadata": {},
   "source": [
    "💡 Here, we expect to get a similar score and accuracy than previously obtained with `LinearRegression()`, because they are both based on the same mathematical principle."
   ]
  },
  {
   "cell_type": "markdown",
   "metadata": {},
   "source": [
    "👇 Let's define a function to help us define if two metrics are almost equal:"
   ]
  },
  {
   "cell_type": "code",
   "execution_count": null,
   "metadata": {},
   "outputs": [],
   "source": [
    "def compare_values(value1, value2, decimal):\n",
    "    try:\n",
    "        np.testing.assert_almost_equal(value1, value2, decimal=decimal)\n",
    "        print(\"Values are almost equal.\")\n",
    "    except AssertionError:\n",
    "        print(\"Values are not almost equal.\")"
   ]
  },
  {
   "cell_type": "markdown",
   "metadata": {},
   "source": [
    "❓ How would you test if `model_score2` and `model_score3` are almost equal (by 3 decimals)? \n",
    "\n",
    "👇 Write your code in the cell below."
   ]
  },
  {
   "cell_type": "code",
   "execution_count": null,
   "metadata": {},
   "outputs": [],
   "source": [
    "# type, uncomment and run your code here"
   ]
  },
  {
   "cell_type": "markdown",
   "metadata": {},
   "source": [
    "<details><summary markdown='span'>View solution\n",
    "</summary>\n",
    "\n",
    "```python\n",
    "decimal = 3\n",
    "compare_values(model_score2, model_score3, decimal)\n",
    "```\n",
    "\n",
    "</details>"
   ]
  },
  {
   "cell_type": "markdown",
   "metadata": {},
   "source": [
    "❓ What about `accuracy2` and `accuracy3`? \n",
    "\n",
    "👇 Write your code in the cell below."
   ]
  },
  {
   "cell_type": "code",
   "execution_count": null,
   "metadata": {},
   "outputs": [],
   "source": [
    "# type, uncomment and run your code here"
   ]
  },
  {
   "cell_type": "markdown",
   "metadata": {},
   "source": [
    "<details><summary markdown='span'>View solution\n",
    "</summary>\n",
    "\n",
    "```python\n",
    "compare_values(accuracy2, accuracy3, decimal)\n",
    "```\n",
    "\n",
    "</details>"
   ]
  },
  {
   "cell_type": "markdown",
   "metadata": {},
   "source": [
    "<details><summary markdown='span'>More on Regression Models\n",
    "</summary>\n",
    "\n",
    "[Other regression models](https://scikit-learn.org/stable/modules/linear_model.html) exist, such as Lasso or Elastic Net. \n",
    "\n",
    "The choice between all available methods should be guided by the specific characteristics of the dataset and the objectives of the analysis.\n",
    "\n",
    "Do not hesitate to read [more](https://towardsdatascience.com/whats-the-difference-between-linear-regression-lasso-ridge-and-elasticnet-8f997c60cf29) on the topic!\n",
    "\n",
    "</details>"
   ]
  },
  {
   "cell_type": "markdown",
   "metadata": {},
   "source": [
    "### Polynomial Features"
   ]
  },
  {
   "cell_type": "markdown",
   "metadata": {},
   "source": [
    "🔥 Another option is to make our linear model handle non-linear relationship... That sounds very conterintuitive but it can be done through <b>polynomial features</b>.\n",
    "\n",
    "Let's got through the basic steps. Do not hesitate to modify the code to explore more of it!"
   ]
  },
  {
   "cell_type": "code",
   "execution_count": null,
   "metadata": {},
   "outputs": [],
   "source": [
    "#defining the degrees\n",
    "degrees = 2"
   ]
  },
  {
   "cell_type": "code",
   "execution_count": null,
   "metadata": {},
   "outputs": [],
   "source": [
    "#sorting the values\n",
    "sorted_df = df_cleaned.sort_values('life_expectancy')\n",
    "\n",
    "#defining the feature and target\n",
    "X_sorted = sorted_df[['life_expectancy']]\n",
    "y_sorted = sorted_df['incidence_per_1000']\n",
    "\n",
    "#creating our polynomial features\n",
    "poly_features = PolynomialFeatures(degree=degrees, include_bias=False)\n",
    "X_poly = poly_features.fit_transform(X_sorted)\n",
    "\n",
    "#fitting model\n",
    "model_poly = model.fit(X_poly, y_sorted)\n",
    "\n",
    "#predicting\n",
    "predictions = model_poly.predict(X_poly)\n",
    "\n",
    "#plotting predictions over original data\n",
    "sns.scatterplot(x=X_sorted['life_expectancy'], y=y_sorted, alpha=0.5)\n",
    "plt.plot(X_sorted['life_expectancy'], predictions, linewidth=3, color='r')"
   ]
  },
  {
   "cell_type": "code",
   "execution_count": null,
   "metadata": {},
   "outputs": [],
   "source": [
    "#scoring the model\n",
    "score_poly = model_fitted.score(X_poly, y_sorted)\n",
    "print(\"Model R2 score:\", round(score_poly, 2))"
   ]
  },
  {
   "cell_type": "markdown",
   "metadata": {},
   "source": [
    "### Option 3: Joining different datasets\n"
   ]
  },
  {
   "cell_type": "markdown",
   "metadata": {},
   "source": [
    "Machine Learning is mostly about data.\n",
    "\n",
    "By creating bigger datasets, we might (or not!) improve the scores and the capacities of our model."
   ]
  },
  {
   "cell_type": "code",
   "execution_count": null,
   "metadata": {},
   "outputs": [],
   "source": [
    "df_gdp = pd.read_csv(\"./data/workshop/GDPpercapita.csv\")\n",
    "df_gdp.describe()"
   ]
  },
  {
   "cell_type": "markdown",
   "metadata": {},
   "source": [
    "👇 We join the datasets by matching their `country` columns: "
   ]
  },
  {
   "cell_type": "code",
   "execution_count": null,
   "metadata": {},
   "outputs": [],
   "source": [
    "df_complete = pd.merge(df, df_gdp, how = 'left', on = 'country')\n",
    "df_complete.head()"
   ]
  },
  {
   "cell_type": "markdown",
   "metadata": {},
   "source": [
    "You now have a whole new feature to test on!\n",
    "Ideally, we would look for more specific data on malaria, such as mosquito net coverage, access to treatment... But it is difficult to obtain clean, standardised data at a global scale. "
   ]
  },
  {
   "cell_type": "markdown",
   "metadata": {},
   "source": [
    "### Option 4: Actual preprocessing"
   ]
  },
  {
   "cell_type": "markdown",
   "metadata": {},
   "source": [
    "To make the notebook easy to follow, we skipped an important step of preprocessing: <b>Data Scaling</b>. \n",
    "\n",
    "You can have a look at [how you can implement it](https://betterdatascience.com/data-scaling-for-machine-learning/) and try it on your own if you feel confident. "
   ]
  },
  {
   "cell_type": "markdown",
   "metadata": {},
   "source": [
    "### Option 5: Your own solution!"
   ]
  },
  {
   "cell_type": "markdown",
   "metadata": {},
   "source": [
    "Possibilities are almost endless and even if we have to adhere to good practices, your creativity can save the day!\n",
    "\n",
    "Do not hesitate to explore the [available tools](https://scikit-learn.org/stable/index.html), to look for [new data](https://www.kaggle.com/) to analyse, or check regurlarly this [repo](https://github.com/APepey/ML-workshop) for new resources and challenges!"
   ]
  }
 ],
 "metadata": {
  "kernelspec": {
   "display_name": "Python 3",
   "language": "python",
   "name": "python3"
  },
  "language_info": {
   "codemirror_mode": {
    "name": "ipython",
    "version": 3
   },
   "file_extension": ".py",
   "mimetype": "text/x-python",
   "name": "python",
   "nbconvert_exporter": "python",
   "pygments_lexer": "ipython3",
   "version": "3.10.12"
  }
 },
 "nbformat": 4,
 "nbformat_minor": 2
}
