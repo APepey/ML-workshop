{
 "cells": [
  {
   "cell_type": "markdown",
   "metadata": {},
   "source": [
    "## Preparing our environment"
   ]
  },
  {
   "cell_type": "markdown",
   "metadata": {},
   "source": [
    "by Anaïs Pepey"
   ]
  },
  {
   "cell_type": "code",
   "execution_count": 2,
   "metadata": {},
   "outputs": [],
   "source": [
    "import pandas as pd\n",
    "import seaborn as sns"
   ]
  },
  {
   "cell_type": "markdown",
   "metadata": {},
   "source": [
    "## Importing data"
   ]
  },
  {
   "cell_type": "markdown",
   "metadata": {},
   "source": [
    "👇 Load the `insecticides.csv` dataset into this notebook as a pandas dataframe, and display its first 5 rows."
   ]
  },
  {
   "cell_type": "markdown",
   "metadata": {},
   "source": [
    "🌏 This dataset includes data on antimalaria therapies efficacy and is kindly provided by the WHO through their data download [page](https://apps.who.int/malaria/maps/threats/#/download). "
   ]
  },
  {
   "cell_type": "code",
   "execution_count": 3,
   "metadata": {},
   "outputs": [
    {
     "data": {
      "text/html": [
       "<div>\n",
       "<style scoped>\n",
       "    .dataframe tbody tr th:only-of-type {\n",
       "        vertical-align: middle;\n",
       "    }\n",
       "\n",
       "    .dataframe tbody tr th {\n",
       "        vertical-align: top;\n",
       "    }\n",
       "\n",
       "    .dataframe thead th {\n",
       "        text-align: right;\n",
       "    }\n",
       "</style>\n",
       "<table border=\"1\" class=\"dataframe\">\n",
       "  <thead>\n",
       "    <tr style=\"text-align: right;\">\n",
       "      <th></th>\n",
       "      <th>ID</th>\n",
       "      <th>COUNTRY_NAME</th>\n",
       "      <th>ISO2</th>\n",
       "      <th>ADMIN1</th>\n",
       "      <th>ADMIN2</th>\n",
       "      <th>SITE_NAME</th>\n",
       "      <th>SITE_CODE</th>\n",
       "      <th>LATITUDE</th>\n",
       "      <th>LONGITUDE</th>\n",
       "      <th>TEST_TYPE</th>\n",
       "      <th>...</th>\n",
       "      <th>VECTOR_SPECIES</th>\n",
       "      <th>STAGE_ORIGIN</th>\n",
       "      <th>MOSQUITO_NUMBER</th>\n",
       "      <th>TIME_HOLDING_POSTEXPOSURE</th>\n",
       "      <th>MORTALITY_ADJUSTED</th>\n",
       "      <th>RESISTANCE_INTENSITY</th>\n",
       "      <th>DATA_SOURCE</th>\n",
       "      <th>CITATION</th>\n",
       "      <th>CITATION_URL</th>\n",
       "      <th>DATA_CURATOR</th>\n",
       "    </tr>\n",
       "  </thead>\n",
       "  <tbody>\n",
       "    <tr>\n",
       "      <th>0</th>\n",
       "      <td>IR000001289</td>\n",
       "      <td>China</td>\n",
       "      <td>CN</td>\n",
       "      <td>Hubei</td>\n",
       "      <td>Suizhou Shi</td>\n",
       "      <td>Guangshui</td>\n",
       "      <td>IRCN25</td>\n",
       "      <td>31.6300</td>\n",
       "      <td>113.8238</td>\n",
       "      <td>WHO tube test</td>\n",
       "      <td>...</td>\n",
       "      <td>An. sinensis s.l.</td>\n",
       "      <td>F0_ADULTS_(WILD_COLLECTED)</td>\n",
       "      <td>97</td>\n",
       "      <td>undefined</td>\n",
       "      <td>15.5</td>\n",
       "      <td>NaN</td>\n",
       "      <td>Hubei CDC</td>\n",
       "      <td>Hubei CDC</td>\n",
       "      <td>NaN</td>\n",
       "      <td>World Health Organization</td>\n",
       "    </tr>\n",
       "    <tr>\n",
       "      <th>1</th>\n",
       "      <td>IR000001347</td>\n",
       "      <td>China</td>\n",
       "      <td>CN</td>\n",
       "      <td>Guangdong</td>\n",
       "      <td>Jiangmen Shi</td>\n",
       "      <td>Heshan County</td>\n",
       "      <td>IRCN33</td>\n",
       "      <td>22.6700</td>\n",
       "      <td>112.7911</td>\n",
       "      <td>WHO tube test</td>\n",
       "      <td>...</td>\n",
       "      <td>An. sinensis s.l.</td>\n",
       "      <td>NR</td>\n",
       "      <td>107</td>\n",
       "      <td>undefined</td>\n",
       "      <td>28.6</td>\n",
       "      <td>Moderate to high intensity</td>\n",
       "      <td>NaN</td>\n",
       "      <td>Wang et al. (2013) A potential threat to malar...</td>\n",
       "      <td>https://www.ncbi.nlm.nih.gov/pubmed/23683359</td>\n",
       "      <td>World Health Organization</td>\n",
       "    </tr>\n",
       "    <tr>\n",
       "      <th>2</th>\n",
       "      <td>IR000002642</td>\n",
       "      <td>China</td>\n",
       "      <td>CN</td>\n",
       "      <td>Henan</td>\n",
       "      <td>Shangqiu Shi</td>\n",
       "      <td>Yongcheng</td>\n",
       "      <td>IRCN103</td>\n",
       "      <td>33.9612</td>\n",
       "      <td>116.3087</td>\n",
       "      <td>WHO tube test</td>\n",
       "      <td>...</td>\n",
       "      <td>An. sinensis s.l.</td>\n",
       "      <td>NR</td>\n",
       "      <td>108</td>\n",
       "      <td>undefined</td>\n",
       "      <td>20.4</td>\n",
       "      <td>Moderate to high intensity</td>\n",
       "      <td>NaN</td>\n",
       "      <td>Wang et al. (2013) A potential threat to malar...</td>\n",
       "      <td>https://www.ncbi.nlm.nih.gov/pubmed/23683359</td>\n",
       "      <td>World Health Organization</td>\n",
       "    </tr>\n",
       "    <tr>\n",
       "      <th>3</th>\n",
       "      <td>IR000001855</td>\n",
       "      <td>China</td>\n",
       "      <td>CN</td>\n",
       "      <td>Sichuan</td>\n",
       "      <td>Ya'an Shi</td>\n",
       "      <td>Mingshan</td>\n",
       "      <td>IRCN65</td>\n",
       "      <td>30.1212</td>\n",
       "      <td>103.2257</td>\n",
       "      <td>WHO tube test</td>\n",
       "      <td>...</td>\n",
       "      <td>An. sinensis s.l.</td>\n",
       "      <td>NR</td>\n",
       "      <td>92</td>\n",
       "      <td>undefined</td>\n",
       "      <td>64.5</td>\n",
       "      <td>Moderate to high intensity</td>\n",
       "      <td>NaN</td>\n",
       "      <td>Wang et al. (2013) A potential threat to malar...</td>\n",
       "      <td>https://www.ncbi.nlm.nih.gov/pubmed/23683359</td>\n",
       "      <td>World Health Organization</td>\n",
       "    </tr>\n",
       "    <tr>\n",
       "      <th>4</th>\n",
       "      <td>IR000002376</td>\n",
       "      <td>China</td>\n",
       "      <td>CN</td>\n",
       "      <td>Shanghai</td>\n",
       "      <td>Shanghai Shi</td>\n",
       "      <td>Songjiang</td>\n",
       "      <td>IRCN79</td>\n",
       "      <td>31.0128</td>\n",
       "      <td>121.2017</td>\n",
       "      <td>WHO tube test</td>\n",
       "      <td>...</td>\n",
       "      <td>An. sinensis s.l.</td>\n",
       "      <td>NR</td>\n",
       "      <td>80</td>\n",
       "      <td>undefined</td>\n",
       "      <td>57.5</td>\n",
       "      <td>Moderate to high intensity</td>\n",
       "      <td>NaN</td>\n",
       "      <td>Wang et al. (2013) A potential threat to malar...</td>\n",
       "      <td>https://www.ncbi.nlm.nih.gov/pubmed/23683359</td>\n",
       "      <td>World Health Organization</td>\n",
       "    </tr>\n",
       "  </tbody>\n",
       "</table>\n",
       "<p>5 rows × 25 columns</p>\n",
       "</div>"
      ],
      "text/plain": [
       "            ID COUNTRY_NAME ISO2     ADMIN1        ADMIN2      SITE_NAME  \\\n",
       "0  IR000001289        China   CN      Hubei   Suizhou Shi      Guangshui   \n",
       "1  IR000001347        China   CN  Guangdong  Jiangmen Shi  Heshan County   \n",
       "2  IR000002642        China   CN      Henan  Shangqiu Shi      Yongcheng   \n",
       "3  IR000001855        China   CN    Sichuan     Ya'an Shi       Mingshan   \n",
       "4  IR000002376        China   CN   Shanghai  Shanghai Shi      Songjiang   \n",
       "\n",
       "  SITE_CODE  LATITUDE  LONGITUDE      TEST_TYPE  ...     VECTOR_SPECIES  \\\n",
       "0    IRCN25   31.6300   113.8238  WHO tube test  ...  An. sinensis s.l.   \n",
       "1    IRCN33   22.6700   112.7911  WHO tube test  ...  An. sinensis s.l.   \n",
       "2   IRCN103   33.9612   116.3087  WHO tube test  ...  An. sinensis s.l.   \n",
       "3    IRCN65   30.1212   103.2257  WHO tube test  ...  An. sinensis s.l.   \n",
       "4    IRCN79   31.0128   121.2017  WHO tube test  ...  An. sinensis s.l.   \n",
       "\n",
       "                 STAGE_ORIGIN MOSQUITO_NUMBER TIME_HOLDING_POSTEXPOSURE  \\\n",
       "0  F0_ADULTS_(WILD_COLLECTED)              97                 undefined   \n",
       "1                          NR             107                 undefined   \n",
       "2                          NR             108                 undefined   \n",
       "3                          NR              92                 undefined   \n",
       "4                          NR              80                 undefined   \n",
       "\n",
       "   MORTALITY_ADJUSTED        RESISTANCE_INTENSITY DATA_SOURCE  \\\n",
       "0                15.5                         NaN   Hubei CDC   \n",
       "1                28.6  Moderate to high intensity         NaN   \n",
       "2                20.4  Moderate to high intensity         NaN   \n",
       "3                64.5  Moderate to high intensity         NaN   \n",
       "4                57.5  Moderate to high intensity         NaN   \n",
       "\n",
       "                                            CITATION  \\\n",
       "0                                          Hubei CDC   \n",
       "1  Wang et al. (2013) A potential threat to malar...   \n",
       "2  Wang et al. (2013) A potential threat to malar...   \n",
       "3  Wang et al. (2013) A potential threat to malar...   \n",
       "4  Wang et al. (2013) A potential threat to malar...   \n",
       "\n",
       "                                   CITATION_URL               DATA_CURATOR  \n",
       "0                                           NaN  World Health Organization  \n",
       "1  https://www.ncbi.nlm.nih.gov/pubmed/23683359  World Health Organization  \n",
       "2  https://www.ncbi.nlm.nih.gov/pubmed/23683359  World Health Organization  \n",
       "3  https://www.ncbi.nlm.nih.gov/pubmed/23683359  World Health Organization  \n",
       "4  https://www.ncbi.nlm.nih.gov/pubmed/23683359  World Health Organization  \n",
       "\n",
       "[5 rows x 25 columns]"
      ]
     },
     "execution_count": 3,
     "metadata": {},
     "output_type": "execute_result"
    }
   ],
   "source": [
    "df_01 = pd.read_csv(\"./data/workshop/insecticides.csv\")\n",
    "df_01.head()"
   ]
  },
  {
   "cell_type": "markdown",
   "metadata": {},
   "source": [
    "👇 Now import the `drugs.csv` dataset and save it as `df_02`."
   ]
  },
  {
   "cell_type": "code",
   "execution_count": 12,
   "metadata": {},
   "outputs": [],
   "source": [
    "# type, uncomment and run your code here"
   ]
  },
  {
   "cell_type": "markdown",
   "metadata": {},
   "source": [
    "<details><summary markdown='span'>View solution\n",
    "</summary>\n",
    "\n",
    "```python\n",
    "df_02 = pd.read_csv(\"./data/workshop/drugs.csv\")\n",
    "df_02.head()\n",
    "```\n",
    "\n",
    "</details>"
   ]
  },
  {
   "cell_type": "markdown",
   "metadata": {},
   "source": [
    "This dataset includes data on the efficacy of insecticides against different species of <i>Anopheles </i>mosquitoes and is kindly provided by the WHO through their data download [page](https://apps.who.int/malaria/maps/threats/#/download). "
   ]
  },
  {
   "cell_type": "markdown",
   "metadata": {},
   "source": [
    "## Summarizing the dataset\n"
   ]
  },
  {
   "cell_type": "code",
   "execution_count": 5,
   "metadata": {},
   "outputs": [
    {
     "data": {
      "text/html": [
       "<div>\n",
       "<style scoped>\n",
       "    .dataframe tbody tr th:only-of-type {\n",
       "        vertical-align: middle;\n",
       "    }\n",
       "\n",
       "    .dataframe tbody tr th {\n",
       "        vertical-align: top;\n",
       "    }\n",
       "\n",
       "    .dataframe thead th {\n",
       "        text-align: right;\n",
       "    }\n",
       "</style>\n",
       "<table border=\"1\" class=\"dataframe\">\n",
       "  <thead>\n",
       "    <tr style=\"text-align: right;\">\n",
       "      <th></th>\n",
       "      <th>LATITUDE</th>\n",
       "      <th>LONGITUDE</th>\n",
       "      <th>YEAR_START</th>\n",
       "      <th>MORTALITY_ADJUSTED</th>\n",
       "    </tr>\n",
       "  </thead>\n",
       "  <tbody>\n",
       "    <tr>\n",
       "      <th>count</th>\n",
       "      <td>1729.000000</td>\n",
       "      <td>1729.000000</td>\n",
       "      <td>1729.000000</td>\n",
       "      <td>1729.000000</td>\n",
       "    </tr>\n",
       "    <tr>\n",
       "      <th>mean</th>\n",
       "      <td>6.459324</td>\n",
       "      <td>11.395025</td>\n",
       "      <td>2017.980914</td>\n",
       "      <td>61.919757</td>\n",
       "    </tr>\n",
       "    <tr>\n",
       "      <th>std</th>\n",
       "      <td>8.892292</td>\n",
       "      <td>25.368436</td>\n",
       "      <td>1.703817</td>\n",
       "      <td>32.693572</td>\n",
       "    </tr>\n",
       "    <tr>\n",
       "      <th>min</th>\n",
       "      <td>-28.343065</td>\n",
       "      <td>-84.223600</td>\n",
       "      <td>2010.000000</td>\n",
       "      <td>0.000000</td>\n",
       "    </tr>\n",
       "    <tr>\n",
       "      <th>25%</th>\n",
       "      <td>3.699000</td>\n",
       "      <td>-4.428611</td>\n",
       "      <td>2017.000000</td>\n",
       "      <td>35.000000</td>\n",
       "    </tr>\n",
       "    <tr>\n",
       "      <th>50%</th>\n",
       "      <td>8.150000</td>\n",
       "      <td>2.840258</td>\n",
       "      <td>2018.000000</td>\n",
       "      <td>71.000000</td>\n",
       "    </tr>\n",
       "    <tr>\n",
       "      <th>75%</th>\n",
       "      <td>12.358651</td>\n",
       "      <td>25.217662</td>\n",
       "      <td>2019.000000</td>\n",
       "      <td>92.000000</td>\n",
       "    </tr>\n",
       "    <tr>\n",
       "      <th>max</th>\n",
       "      <td>34.671389</td>\n",
       "      <td>121.201700</td>\n",
       "      <td>2021.000000</td>\n",
       "      <td>100.000000</td>\n",
       "    </tr>\n",
       "  </tbody>\n",
       "</table>\n",
       "</div>"
      ],
      "text/plain": [
       "          LATITUDE    LONGITUDE   YEAR_START  MORTALITY_ADJUSTED\n",
       "count  1729.000000  1729.000000  1729.000000         1729.000000\n",
       "mean      6.459324    11.395025  2017.980914           61.919757\n",
       "std       8.892292    25.368436     1.703817           32.693572\n",
       "min     -28.343065   -84.223600  2010.000000            0.000000\n",
       "25%       3.699000    -4.428611  2017.000000           35.000000\n",
       "50%       8.150000     2.840258  2018.000000           71.000000\n",
       "75%      12.358651    25.217662  2019.000000           92.000000\n",
       "max      34.671389   121.201700  2021.000000          100.000000"
      ]
     },
     "execution_count": 5,
     "metadata": {},
     "output_type": "execute_result"
    }
   ],
   "source": [
    "df_01.describe()"
   ]
  },
  {
   "cell_type": "code",
   "execution_count": 6,
   "metadata": {},
   "outputs": [
    {
     "name": "stdout",
     "output_type": "stream",
     "text": [
      "<class 'pandas.core.frame.DataFrame'>\n",
      "RangeIndex: 1729 entries, 0 to 1728\n",
      "Data columns (total 25 columns):\n",
      " #   Column                     Non-Null Count  Dtype  \n",
      "---  ------                     --------------  -----  \n",
      " 0   ID                         1729 non-null   object \n",
      " 1   COUNTRY_NAME               1729 non-null   object \n",
      " 2   ISO2                       1729 non-null   object \n",
      " 3   ADMIN1                     1729 non-null   object \n",
      " 4   ADMIN2                     1729 non-null   object \n",
      " 5   SITE_NAME                  1729 non-null   object \n",
      " 6   SITE_CODE                  1729 non-null   object \n",
      " 7   LATITUDE                   1729 non-null   float64\n",
      " 8   LONGITUDE                  1729 non-null   float64\n",
      " 9   TEST_TYPE                  1729 non-null   object \n",
      " 10  INSECTICIDE_CLASS          1729 non-null   object \n",
      " 11  INSECTICIDE_CONC           1729 non-null   object \n",
      " 12  INSECTICIDE_INTENSITY      1729 non-null   object \n",
      " 13  INSECTICIDE_TYPE           1729 non-null   object \n",
      " 14  YEAR_START                 1729 non-null   int64  \n",
      " 15  VECTOR_SPECIES             1729 non-null   object \n",
      " 16  STAGE_ORIGIN               1729 non-null   object \n",
      " 17  MOSQUITO_NUMBER            1729 non-null   object \n",
      " 18  TIME_HOLDING_POSTEXPOSURE  1729 non-null   object \n",
      " 19  MORTALITY_ADJUSTED         1729 non-null   float64\n",
      " 20  RESISTANCE_INTENSITY       1197 non-null   object \n",
      " 21  DATA_SOURCE                1706 non-null   object \n",
      " 22  CITATION                   1729 non-null   object \n",
      " 23  CITATION_URL               1375 non-null   object \n",
      " 24  DATA_CURATOR               1729 non-null   object \n",
      "dtypes: float64(3), int64(1), object(21)\n",
      "memory usage: 337.8+ KB\n"
     ]
    }
   ],
   "source": [
    "df_01.info()"
   ]
  },
  {
   "cell_type": "markdown",
   "metadata": {},
   "source": [
    "❓ How many unique values are there of `PLASMODIUM_SPECIES`?"
   ]
  },
  {
   "cell_type": "code",
   "execution_count": null,
   "metadata": {},
   "outputs": [],
   "source": [
    "df_02['PLASMODIUM_SPECIES'].nunique()"
   ]
  },
  {
   "cell_type": "markdown",
   "metadata": {},
   "source": [
    "❓ How many observations for each species are there in the dataset?"
   ]
  },
  {
   "cell_type": "code",
   "execution_count": 37,
   "metadata": {},
   "outputs": [],
   "source": [
    "# write, uncomment and run your code here"
   ]
  },
  {
   "cell_type": "markdown",
   "metadata": {},
   "source": [
    "<details><summary markdown='span'>Hint\n",
    "</summary>\n",
    "It might include something called `value_counts()`\n",
    "\n",
    "</details>"
   ]
  },
  {
   "cell_type": "markdown",
   "metadata": {},
   "source": [
    "<details><summary markdown='span'>View solution\n",
    "</summary>\n",
    "\n",
    "```python\n",
    "df_02['PLASMODIUM_SPECIES'].value_counts()\n",
    "```\n",
    "\n",
    "</details>"
   ]
  },
  {
   "cell_type": "markdown",
   "metadata": {},
   "source": [
    "## Visualising the dataset"
   ]
  },
  {
   "cell_type": "markdown",
   "metadata": {},
   "source": [
    "👇 Seaborn allows us to plot pretty graphs in very few lines: "
   ]
  },
  {
   "cell_type": "code",
   "execution_count": 7,
   "metadata": {},
   "outputs": [
    {
     "data": {
      "image/png": "[encoded data removed]",
      "text/plain": [
       "<Figure size 640x480 with 1 Axes>"
      ]
     },
     "metadata": {},
     "output_type": "display_data"
    }
   ],
   "source": [
    "ax = sns.barplot(x = \"MORTALITY_ADJUSTED\", y = \"INSECTICIDE_CLASS\", hue = \"TEST_TYPE\", data=df_01)\n",
    "sns.move_legend(ax, \"upper left\", bbox_to_anchor = (1, 1))"
   ]
  },
  {
   "cell_type": "markdown",
   "metadata": {},
   "source": [
    "👾 Your turn!\n",
    "\n",
    "👇 Correct the code below so display a violin plot:"
   ]
  },
  {
   "cell_type": "code",
   "execution_count": 28,
   "metadata": {},
   "outputs": [
    {
     "ename": "TypeError",
     "evalue": "violinplot() got multiple values for argument 'data'",
     "output_type": "error",
     "traceback": [
      "\u001b[0;31m---------------------------------------------------------------------------\u001b[0m",
      "\u001b[0;31mTypeError\u001b[0m                                 Traceback (most recent call last)",
      "Cell \u001b[0;32mIn[28], line 1\u001b[0m\n\u001b[0;32m----> 1\u001b[0m \u001b[43msns\u001b[49m\u001b[38;5;241;43m.\u001b[39;49m\u001b[43mviolinplot\u001b[49m\u001b[43m(\u001b[49m\u001b[38;5;124;43m\"\u001b[39;49m\u001b[38;5;124;43mYEAR_START\u001b[39;49m\u001b[38;5;124;43m\"\u001b[39;49m\u001b[43m,\u001b[49m\u001b[43m \u001b[49m\u001b[38;5;124;43m\"\u001b[39;49m\u001b[38;5;124;43mMORTALITY_ADJUSTED\u001b[39;49m\u001b[38;5;124;43m\"\u001b[39;49m\u001b[43m,\u001b[49m\u001b[43m \u001b[49m\u001b[43mdata\u001b[49m\u001b[43m \u001b[49m\u001b[38;5;241;43m=\u001b[39;49m\u001b[43m \u001b[49m\u001b[43mdf_01\u001b[49m\u001b[43m)\u001b[49m\n",
      "\u001b[0;31mTypeError\u001b[0m: violinplot() got multiple values for argument 'data'"
     ]
    }
   ],
   "source": [
    "sns.violinplot(\"YEAR_START\", \"MORTALITY_ADJUSTED\", data = df_01)"
   ]
  },
  {
   "cell_type": "markdown",
   "metadata": {},
   "source": [
    "<details><summary markdown='span'>View solution\n",
    "</summary>\n",
    "\n",
    "```python\n",
    "sns.violinplot(x=\"YEAR_START\",y=\"MORTALITY_ADJUSTED\",data=df_01)\n",
    "```\n",
    "\n",
    "</details>"
   ]
  },
  {
   "cell_type": "markdown",
   "metadata": {},
   "source": [
    "👇 Complete the code below to make the `hue` of the data points proprotional to `PLASMODIUM_SPECIES`."
   ]
  },
  {
   "cell_type": "code",
   "execution_count": 36,
   "metadata": {},
   "outputs": [
    {
     "data": {
      "text/plain": [
       "<Axes: xlabel='PLASMODIUM_SPECIES', ylabel='TREATMENT_FAILURE_PP'>"
      ]
     },
     "execution_count": 36,
     "metadata": {},
     "output_type": "execute_result"
    },
    {
     "data": {
      "image/png": "[encoded data removed]",
      "text/plain": [
       "<Figure size 640x480 with 1 Axes>"
      ]
     },
     "metadata": {},
     "output_type": "display_data"
    }
   ],
   "source": [
    "sns.stripplot(x = 'PLASMODIUM_SPECIES', y = 'TREATMENT_FAILURE_PP', data = df_02, alpha = 0.2, jitter = 0.4)"
   ]
  },
  {
   "cell_type": "markdown",
   "metadata": {},
   "source": [
    "<details><summary markdown='span'>View solution\n",
    "</summary>\n",
    "\n",
    "```python\n",
    "sns.stripplot(x = 'PLASMODIUM_SPECIES', y = 'TREATMENT_FAILURE_PP', hue = 'PLASMODIUM_SPECIES', data = df_02, alpha = 0.2, jitter = 0.4)\n",
    "```\n",
    "\n",
    "</details>"
   ]
  },
  {
   "cell_type": "markdown",
   "metadata": {},
   "source": [
    "🚀 Feel free to play around and create your own plots!\n",
    "\n",
    "📝 [Seaborn Cheatsheet](https://s3.amazonaws.com/assets.datacamp.com/blog_assets/Python_Seaborn_Cheat_Sheet.pdf)"
   ]
  }
 ],
 "metadata": {
  "kernelspec": {
   "display_name": "portfolio_projects",
   "language": "python",
   "name": "python3"
  },
  "language_info": {
   "codemirror_mode": {
    "name": "ipython",
    "version": 3
   },
   "file_extension": ".py",
   "mimetype": "text/x-python",
   "name": "python",
   "nbconvert_exporter": "python",
   "pygments_lexer": "ipython3",
   "version": "3.12.0"
  }
 },
 "nbformat": 4,
 "nbformat_minor": 2
}
