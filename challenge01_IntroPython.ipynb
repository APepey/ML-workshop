{
 "cells": [
  {
   "cell_type": "markdown",
   "metadata": {},
   "source": [
    "## Preparing our environment"
   ]
  },
  {
   "cell_type": "markdown",
   "metadata": {},
   "source": [
    "by Anaïs Pepey"
   ]
  },
  {
   "cell_type": "code",
   "execution_count": null,
   "metadata": {},
   "outputs": [],
   "source": [
    "import pandas as pd\n",
    "import seaborn as sns"
   ]
  },
  {
   "cell_type": "markdown",
   "metadata": {},
   "source": [
    "## Importing data"
   ]
  },
  {
   "cell_type": "markdown",
   "metadata": {},
   "source": [
    "👇 Load the `insecticides.csv` dataset into this notebook as a pandas dataframe, and display its first 5 rows."
   ]
  },
  {
   "cell_type": "markdown",
   "metadata": {},
   "source": [
    "🌏 This dataset includes data on antimalaria therapies efficacy and is kindly provided by the WHO through their data download [page](https://apps.who.int/malaria/maps/threats/#/download). "
   ]
  },
  {
   "cell_type": "code",
   "execution_count": null,
   "metadata": {},
   "outputs": [],
   "source": [
    "df_01 = pd.read_csv(\"./data/workshop/insecticides.csv\")\n",
    "df_01.head()"
   ]
  },
  {
   "cell_type": "markdown",
   "metadata": {},
   "source": [
    "👇 Now import the `drugs.csv` dataset and save it as `df_02`."
   ]
  },
  {
   "cell_type": "code",
   "execution_count": null,
   "metadata": {},
   "outputs": [],
   "source": [
    "# type, uncomment and run your code here"
   ]
  },
  {
   "cell_type": "markdown",
   "metadata": {},
   "source": [
    "<details><summary markdown='span'>View solution\n",
    "</summary>\n",
    "\n",
    "```python\n",
    "df_02 = pd.read_csv(\"./data/workshop/drugs.csv\")\n",
    "df_02.head()\n",
    "```\n",
    "\n",
    "</details>"
   ]
  },
  {
   "cell_type": "markdown",
   "metadata": {},
   "source": [
    "This dataset includes data on the efficacy of insecticides against different species of <i>Anopheles </i>mosquitoes and is kindly provided by the WHO through their data download [page](https://apps.who.int/malaria/maps/threats/#/download). "
   ]
  },
  {
   "cell_type": "markdown",
   "metadata": {},
   "source": [
    "## Summarizing the dataset\n"
   ]
  },
  {
   "cell_type": "code",
   "execution_count": null,
   "metadata": {},
   "outputs": [],
   "source": [
    "df_01.describe()"
   ]
  },
  {
   "cell_type": "code",
   "execution_count": null,
   "metadata": {},
   "outputs": [],
   "source": [
    "df_01.info()"
   ]
  },
  {
   "cell_type": "markdown",
   "metadata": {},
   "source": [
    "❓ How many unique values are there of `PLASMODIUM_SPECIES`?"
   ]
  },
  {
   "cell_type": "code",
   "execution_count": null,
   "metadata": {},
   "outputs": [],
   "source": [
    "df_02['PLASMODIUM_SPECIES'].nunique()"
   ]
  },
  {
   "cell_type": "markdown",
   "metadata": {},
   "source": [
    "❓ How many observations for each species are there in the dataset?"
   ]
  },
  {
   "cell_type": "code",
   "execution_count": null,
   "metadata": {},
   "outputs": [],
   "source": [
    "# write, uncomment and run your code here"
   ]
  },
  {
   "cell_type": "markdown",
   "metadata": {},
   "source": [
    "<details><summary markdown='span'>Hint\n",
    "</summary>\n",
    "It might include something called `value_counts()`\n",
    "\n",
    "</details>"
   ]
  },
  {
   "cell_type": "markdown",
   "metadata": {},
   "source": [
    "<details><summary markdown='span'>View solution\n",
    "</summary>\n",
    "\n",
    "```python\n",
    "df_02['PLASMODIUM_SPECIES'].value_counts()\n",
    "```\n",
    "\n",
    "</details>"
   ]
  },
  {
   "cell_type": "markdown",
   "metadata": {},
   "source": [
    "## Visualising the dataset"
   ]
  },
  {
   "cell_type": "markdown",
   "metadata": {},
   "source": [
    "👇 Seaborn allows us to plot pretty graphs in very few lines: "
   ]
  },
  {
   "cell_type": "code",
   "execution_count": null,
   "metadata": {},
   "outputs": [],
   "source": [
    "ax = sns.barplot(x = \"INSECTICIDE_CLASS\", y = \"MORTALITY_ADJUSTED\", hue = \"TEST_TYPE\", data=df_01)\n",
    "sns.move_legend(ax, \"upper left\", bbox_to_anchor = (1, 1))"
   ]
  },
  {
   "cell_type": "markdown",
   "metadata": {},
   "source": [
    "👾 Your turn!\n",
    "\n",
    "👇 Correct the code below so display a violin plot:"
   ]
  },
  {
   "cell_type": "code",
   "execution_count": null,
   "metadata": {},
   "outputs": [],
   "source": [
    "sns.violinplot(\"YEAR_START\", \"MORTALITY_ADJUSTED\", data = df_01)"
   ]
  },
  {
   "cell_type": "markdown",
   "metadata": {},
   "source": [
    "<details><summary markdown='span'>View solution\n",
    "</summary>\n",
    "\n",
    "```python\n",
    "sns.violinplot(x=\"YEAR_START\",y=\"MORTALITY_ADJUSTED\",data=df_01)\n",
    "```\n",
    "\n",
    "</details>"
   ]
  },
  {
   "cell_type": "markdown",
   "metadata": {},
   "source": [
    "👇 Complete the code below to make the `hue` of the data points proprotional to `PLASMODIUM_SPECIES`."
   ]
  },
  {
   "cell_type": "code",
   "execution_count": null,
   "metadata": {},
   "outputs": [],
   "source": [
    "sns.stripplot(x = 'PLASMODIUM_SPECIES', y = 'TREATMENT_FAILURE_PP', data = df_02, alpha = 0.2, jitter = 0.4)"
   ]
  },
  {
   "cell_type": "markdown",
   "metadata": {},
   "source": [
    "<details><summary markdown='span'>View solution\n",
    "</summary>\n",
    "\n",
    "```python\n",
    "sns.stripplot(x = 'PLASMODIUM_SPECIES', y = 'TREATMENT_FAILURE_PP', hue = 'PLASMODIUM_SPECIES', data = df_02, alpha = 0.2, jitter = 0.4)\n",
    "```\n",
    "\n",
    "</details>"
   ]
  },
  {
   "cell_type": "markdown",
   "metadata": {},
   "source": [
    "🚀 Feel free to play around and create your own plots!\n",
    "\n",
    "📝 [Seaborn Cheatsheet](https://s3.amazonaws.com/assets.datacamp.com/blog_assets/Python_Seaborn_Cheat_Sheet.pdf)"
   ]
  }
 ],
 "metadata": {
  "kernelspec": {
   "display_name": "portfolio_projects",
   "language": "python",
   "name": "python3"
  },
  "language_info": {
   "codemirror_mode": {
    "name": "ipython",
    "version": 3
   },
   "file_extension": ".py",
   "mimetype": "text/x-python",
   "name": "python",
   "nbconvert_exporter": "python",
   "pygments_lexer": "ipython3",
   "version": "3.12.0"
  }
 },
 "nbformat": 4,
 "nbformat_minor": 2
}
