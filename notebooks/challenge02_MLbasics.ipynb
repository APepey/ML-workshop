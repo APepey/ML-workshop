{
 "cells": [
  {
   "cell_type": "markdown",
   "metadata": {},
   "source": [
    "# Machine Learning workflow"
   ]
  },
  {
   "cell_type": "markdown",
   "metadata": {},
   "source": [
    "## Import libraries"
   ]
  },
  {
   "cell_type": "markdown",
   "metadata": {},
   "source": [
    "### the all-time basics"
   ]
  },
  {
   "cell_type": "code",
   "execution_count": 12,
   "metadata": {},
   "outputs": [],
   "source": [
    "import seaborn as sns\n",
    "import pandas as pd\n",
    "import numpy as np\n",
    "import matplotlib.pyplot as plt"
   ]
  },
  {
   "cell_type": "markdown",
   "metadata": {},
   "source": [
    "### the machine learning specifics"
   ]
  },
  {
   "cell_type": "code",
   "execution_count": 13,
   "metadata": {},
   "outputs": [],
   "source": [
    "from sklearn.linear_model import LinearRegression\n",
    "from sklearn.model_selection import cross_validate, cross_val_score"
   ]
  },
  {
   "cell_type": "markdown",
   "metadata": {},
   "source": [
    "## Import data"
   ]
  },
  {
   "cell_type": "markdown",
   "metadata": {},
   "source": [
    "👇 Load the `titanic.csv` dataset into this notebook as a pandas dataframe, and display its first 5 rows."
   ]
  },
  {
   "cell_type": "markdown",
   "metadata": {},
   "source": [
    "This dataset is provided by the WHO through their data download [page](https://apps.who.int/malaria/maps/threats/#/download). "
   ]
  },
  {
   "cell_type": "code",
   "execution_count": 14,
   "metadata": {},
   "outputs": [
    {
     "data": {
      "text/html": [
       "<div>\n",
       "<style scoped>\n",
       "    .dataframe tbody tr th:only-of-type {\n",
       "        vertical-align: middle;\n",
       "    }\n",
       "\n",
       "    .dataframe tbody tr th {\n",
       "        vertical-align: top;\n",
       "    }\n",
       "\n",
       "    .dataframe thead th {\n",
       "        text-align: right;\n",
       "    }\n",
       "</style>\n",
       "<table border=\"1\" class=\"dataframe\">\n",
       "  <thead>\n",
       "    <tr style=\"text-align: right;\">\n",
       "      <th></th>\n",
       "      <th>ID</th>\n",
       "      <th>COUNTRY_NAME</th>\n",
       "      <th>ISO2</th>\n",
       "      <th>ADMIN2</th>\n",
       "      <th>SITE_NAME</th>\n",
       "      <th>LATITUDE</th>\n",
       "      <th>LONGITUDE</th>\n",
       "      <th>YEAR_START</th>\n",
       "      <th>YEAR_END</th>\n",
       "      <th>DRUG_NAME</th>\n",
       "      <th>PLASMODIUM_SPECIES</th>\n",
       "      <th>SAMPLE_SIZE</th>\n",
       "      <th>FOLLOW_UP (days)</th>\n",
       "      <th>POSITIVE_DAY_3 (days)</th>\n",
       "      <th>TREATMENT_FAILURE_PP</th>\n",
       "      <th>TREATMENT_FAILURE_KM</th>\n",
       "      <th>DATA_SOURCE</th>\n",
       "      <th>CITATION_URL</th>\n",
       "    </tr>\n",
       "  </thead>\n",
       "  <tbody>\n",
       "    <tr>\n",
       "      <th>0</th>\n",
       "      <td>3</td>\n",
       "      <td>Cambodia</td>\n",
       "      <td>KH</td>\n",
       "      <td>Ratanakiri</td>\n",
       "      <td>Veun Sai</td>\n",
       "      <td>14.261043</td>\n",
       "      <td>106.794241</td>\n",
       "      <td>2010</td>\n",
       "      <td>2011</td>\n",
       "      <td>Artemether-lumefantrine</td>\n",
       "      <td>P. falciparum</td>\n",
       "      <td>60</td>\n",
       "      <td>28</td>\n",
       "      <td>3.2</td>\n",
       "      <td>5.0</td>\n",
       "      <td>4.9</td>\n",
       "      <td>National Center for Parasitology, Entomology a...</td>\n",
       "      <td>NaN</td>\n",
       "    </tr>\n",
       "    <tr>\n",
       "      <th>1</th>\n",
       "      <td>15</td>\n",
       "      <td>Cambodia</td>\n",
       "      <td>KH</td>\n",
       "      <td>Pailin Province</td>\n",
       "      <td>Pailin</td>\n",
       "      <td>12.741784</td>\n",
       "      <td>102.633104</td>\n",
       "      <td>2011</td>\n",
       "      <td>2011</td>\n",
       "      <td>Artesunate-mefloquine</td>\n",
       "      <td>P. falciparum</td>\n",
       "      <td>28</td>\n",
       "      <td>42</td>\n",
       "      <td>51.7</td>\n",
       "      <td>0.0</td>\n",
       "      <td>0.0</td>\n",
       "      <td>National Center for Parasitology, Entomology a...</td>\n",
       "      <td>NaN</td>\n",
       "    </tr>\n",
       "    <tr>\n",
       "      <th>2</th>\n",
       "      <td>23</td>\n",
       "      <td>Cambodia</td>\n",
       "      <td>KH</td>\n",
       "      <td>Pailin Province</td>\n",
       "      <td>Pailin</td>\n",
       "      <td>12.741784</td>\n",
       "      <td>102.633104</td>\n",
       "      <td>2010</td>\n",
       "      <td>2011</td>\n",
       "      <td>Dihydroartemisinin-piperaquine</td>\n",
       "      <td>P. falciparum</td>\n",
       "      <td>28</td>\n",
       "      <td>42</td>\n",
       "      <td>44.8</td>\n",
       "      <td>25.0</td>\n",
       "      <td>24.1</td>\n",
       "      <td>National Center for Parasitology, Entomology a...</td>\n",
       "      <td>NaN</td>\n",
       "    </tr>\n",
       "    <tr>\n",
       "      <th>3</th>\n",
       "      <td>24</td>\n",
       "      <td>Cambodia</td>\n",
       "      <td>KH</td>\n",
       "      <td>Pursat</td>\n",
       "      <td>Veal Veng</td>\n",
       "      <td>12.546349</td>\n",
       "      <td>103.918749</td>\n",
       "      <td>2010</td>\n",
       "      <td>2010</td>\n",
       "      <td>Dihydroartemisinin-piperaquine</td>\n",
       "      <td>P. falciparum</td>\n",
       "      <td>56</td>\n",
       "      <td>42</td>\n",
       "      <td>10.2</td>\n",
       "      <td>10.7</td>\n",
       "      <td>10.5</td>\n",
       "      <td>National Center for Parasitology, Entomology a...</td>\n",
       "      <td>NaN</td>\n",
       "    </tr>\n",
       "    <tr>\n",
       "      <th>4</th>\n",
       "      <td>25</td>\n",
       "      <td>Cambodia</td>\n",
       "      <td>KH</td>\n",
       "      <td>Ratanakiri</td>\n",
       "      <td>Veun Sai</td>\n",
       "      <td>14.261043</td>\n",
       "      <td>106.794241</td>\n",
       "      <td>2010</td>\n",
       "      <td>2010</td>\n",
       "      <td>Dihydroartemisinin-piperaquine</td>\n",
       "      <td>P. falciparum</td>\n",
       "      <td>59</td>\n",
       "      <td>42</td>\n",
       "      <td>0.0</td>\n",
       "      <td>0.0</td>\n",
       "      <td>0.0</td>\n",
       "      <td>National Center for Parasitology, Entomology a...</td>\n",
       "      <td>NaN</td>\n",
       "    </tr>\n",
       "  </tbody>\n",
       "</table>\n",
       "</div>"
      ],
      "text/plain": [
       "   ID COUNTRY_NAME ISO2           ADMIN2  SITE_NAME   LATITUDE   LONGITUDE  \\\n",
       "0   3     Cambodia   KH       Ratanakiri   Veun Sai  14.261043  106.794241   \n",
       "1  15     Cambodia   KH  Pailin Province     Pailin  12.741784  102.633104   \n",
       "2  23     Cambodia   KH  Pailin Province     Pailin  12.741784  102.633104   \n",
       "3  24     Cambodia   KH           Pursat  Veal Veng  12.546349  103.918749   \n",
       "4  25     Cambodia   KH       Ratanakiri   Veun Sai  14.261043  106.794241   \n",
       "\n",
       "   YEAR_START  YEAR_END                       DRUG_NAME PLASMODIUM_SPECIES  \\\n",
       "0        2010      2011         Artemether-lumefantrine      P. falciparum   \n",
       "1        2011      2011           Artesunate-mefloquine      P. falciparum   \n",
       "2        2010      2011  Dihydroartemisinin-piperaquine      P. falciparum   \n",
       "3        2010      2010  Dihydroartemisinin-piperaquine      P. falciparum   \n",
       "4        2010      2010  Dihydroartemisinin-piperaquine      P. falciparum   \n",
       "\n",
       "   SAMPLE_SIZE  FOLLOW_UP (days)  POSITIVE_DAY_3 (days)  TREATMENT_FAILURE_PP  \\\n",
       "0           60                28                    3.2                   5.0   \n",
       "1           28                42                   51.7                   0.0   \n",
       "2           28                42                   44.8                  25.0   \n",
       "3           56                42                   10.2                  10.7   \n",
       "4           59                42                    0.0                   0.0   \n",
       "\n",
       "   TREATMENT_FAILURE_KM                                        DATA_SOURCE  \\\n",
       "0                   4.9  National Center for Parasitology, Entomology a...   \n",
       "1                   0.0  National Center for Parasitology, Entomology a...   \n",
       "2                  24.1  National Center for Parasitology, Entomology a...   \n",
       "3                  10.5  National Center for Parasitology, Entomology a...   \n",
       "4                   0.0  National Center for Parasitology, Entomology a...   \n",
       "\n",
       "  CITATION_URL  \n",
       "0          NaN  \n",
       "1          NaN  \n",
       "2          NaN  \n",
       "3          NaN  \n",
       "4          NaN  "
      ]
     },
     "execution_count": 14,
     "metadata": {},
     "output_type": "execute_result"
    }
   ],
   "source": [
    "# data = pd.read_csv(\"../data/raw/WHO_int_conc.csv\")\n",
    "df = pd.read_csv(\"../data/raw/WHO_ther_eff.csv\")\n",
    "df.head()"
   ]
  },
  {
   "cell_type": "markdown",
   "metadata": {},
   "source": [
    "## 0. Data Exploration and Visualisation"
   ]
  },
  {
   "cell_type": "code",
   "execution_count": null,
   "metadata": {},
   "outputs": [],
   "source": [
    "data['GarageFinish'].describe()"
   ]
  },
  {
   "cell_type": "markdown",
   "metadata": {},
   "source": [
    "❓How many species of penguin are there in this dataset?"
   ]
  },
  {
   "cell_type": "code",
   "execution_count": 19,
   "metadata": {},
   "outputs": [
    {
     "ename": "NameError",
     "evalue": "name 'penguin_df' is not defined",
     "output_type": "error",
     "traceback": [
      "\u001b[0;31m---------------------------------------------------------------------------\u001b[0m",
      "\u001b[0;31mNameError\u001b[0m                                 Traceback (most recent call last)",
      "Cell \u001b[0;32mIn [19], line 1\u001b[0m\n\u001b[0;32m----> 1\u001b[0m \u001b[43mpenguin_df\u001b[49m[\u001b[38;5;124m'\u001b[39m\u001b[38;5;124mspecies\u001b[39m\u001b[38;5;124m'\u001b[39m]\u001b[38;5;241m.\u001b[39mnunique()\n",
      "\u001b[0;31mNameError\u001b[0m: name 'penguin_df' is not defined"
     ]
    }
   ],
   "source": [
    "penguin_df['species'].nunique()"
   ]
  },
  {
   "cell_type": "markdown",
   "metadata": {},
   "source": [
    "❓How many observations for each species are there in the dataset?"
   ]
  },
  {
   "cell_type": "code",
   "execution_count": null,
   "metadata": {},
   "outputs": [],
   "source": [
    "penguin_df['species'].value_counts()"
   ]
  },
  {
   "cell_type": "markdown",
   "metadata": {},
   "source": [
    "## 1. Data cleaning"
   ]
  },
  {
   "cell_type": "code",
   "execution_count": null,
   "metadata": {},
   "outputs": [],
   "source": [
    "\n",
    "df.dropna(inplace=True)"
   ]
  },
  {
   "cell_type": "code",
   "execution_count": null,
   "metadata": {},
   "outputs": [],
   "source": [
    "df = df.drop_duplicates()"
   ]
  },
  {
   "cell_type": "code",
   "execution_count": 20,
   "metadata": {},
   "outputs": [
    {
     "ename": "NameError",
     "evalue": "name 'penguin_df' is not defined",
     "output_type": "error",
     "traceback": [
      "\u001b[0;31m---------------------------------------------------------------------------\u001b[0m",
      "\u001b[0;31mNameError\u001b[0m                                 Traceback (most recent call last)",
      "Cell \u001b[0;32mIn [20], line 1\u001b[0m\n\u001b[0;32m----> 1\u001b[0m sns\u001b[38;5;241m.\u001b[39mscatterplot(x\u001b[38;5;241m=\u001b[39m\u001b[38;5;124m'\u001b[39m\u001b[38;5;124mbill_length_mm\u001b[39m\u001b[38;5;124m'\u001b[39m, y\u001b[38;5;241m=\u001b[39m\u001b[38;5;124m'\u001b[39m\u001b[38;5;124mbill_depth_mm\u001b[39m\u001b[38;5;124m'\u001b[39m, data\u001b[38;5;241m=\u001b[39m\u001b[43mpenguin_df\u001b[49m, hue\u001b[38;5;241m=\u001b[39m\u001b[38;5;124m'\u001b[39m\u001b[38;5;124mspecies\u001b[39m\u001b[38;5;124m'\u001b[39m)\n",
      "\u001b[0;31mNameError\u001b[0m: name 'penguin_df' is not defined"
     ]
    }
   ],
   "source": [
    "\n",
    "sns.scatterplot(x='bill_length_mm', y='bill_depth_mm', data=penguin_df, hue='species');"
   ]
  },
  {
   "cell_type": "code",
   "execution_count": null,
   "metadata": {},
   "outputs": [],
   "source": [
    "# Plot like a pro - let's see all the relationships between our columns\n",
    "sns.pairplot(penguin_df, hue=\"species\", corner = True);"
   ]
  },
  {
   "cell_type": "markdown",
   "metadata": {},
   "source": [
    "## 2. Train"
   ]
  },
  {
   "cell_type": "markdown",
   "metadata": {},
   "source": [
    "### Choosing your model"
   ]
  },
  {
   "cell_type": "code",
   "execution_count": 15,
   "metadata": {},
   "outputs": [],
   "source": [
    "model = LinearRegression()\n"
   ]
  },
  {
   "cell_type": "markdown",
   "metadata": {},
   "source": [
    "### Organising your dataset"
   ]
  },
  {
   "cell_type": "code",
   "execution_count": 17,
   "metadata": {},
   "outputs": [],
   "source": [
    "X = df[['TBD']]\n",
    "y = df[['TBD']]\n",
    "\n",
    "plt.scatter(X, y, alpha = .2)"
   ]
  },
  {
   "cell_type": "markdown",
   "metadata": {},
   "source": [
    "### Fitting your model"
   ]
  },
  {
   "cell_type": "code",
   "execution_count": null,
   "metadata": {},
   "outputs": [],
   "source": [
    "model1 = model.fit(X, y)"
   ]
  },
  {
   "cell_type": "markdown",
   "metadata": {},
   "source": [
    "<details>\n",
    "<summary> 👉Solution </summary>\n",
    "You should get a mean accuracy of around 98% which is more than 90%. So our algorithm beats the zoologist!\n",
    "\n",
    "</details>"
   ]
  },
  {
   "cell_type": "markdown",
   "metadata": {},
   "source": [
    "## 2. Cross-Validation"
   ]
  },
  {
   "cell_type": "markdown",
   "metadata": {},
   "source": [
    "Cross-validation does not train a model, it evaluates a hypothetical model on the dataset. If you want to use the model to, for example, make predictions, you will need to train it outside of the cross-validation.\n",
    "\n",
    "❓ Go ahead and train the model on the full `X` and `y` (as we've already validated the model's score, and now will use it to predict). Save the trained model under the variable `model`."
   ]
  },
  {
   "cell_type": "markdown",
   "metadata": {},
   "source": [
    "## 3. Predict"
   ]
  },
  {
   "cell_type": "markdown",
   "metadata": {},
   "source": [
    "## 5. Improving the Model with More Features"
   ]
  },
  {
   "cell_type": "markdown",
   "metadata": {},
   "source": [
    "Your friend who enjoys the NBA fantasy league comes to you with some insights 🏀\n",
    "\n",
    "They say that when evaluating a player's Wins Above Replacement rating, they would typically also look at the number of ball possessions (`poss`), their defense/offense ratio, and their pacing."
   ]
  },
  {
   "cell_type": "markdown",
   "metadata": {},
   "source": [
    "❓ Visualize the correlation between these new features and the `win_rating`. You can use `matplotlib` or `seaborn`. Which **one** of the above features would you consider adding to your model?"
   ]
  },
  {
   "cell_type": "markdown",
   "metadata": {},
   "source": [
    "<details>\n",
    "    <summary>💡 Click here for a hint</summary>\n",
    "    A seaborn <code>regplot</code> might be very handy here.\n",
    "</details>"
   ]
  },
  {
   "cell_type": "markdown",
   "metadata": {},
   "source": [
    "## 4. "
   ]
  },
  {
   "cell_type": "code",
   "execution_count": null,
   "metadata": {},
   "outputs": [],
   "source": []
  }
 ],
 "metadata": {
  "kernelspec": {
   "display_name": "Python 3",
   "language": "python",
   "name": "python3"
  },
  "language_info": {
   "codemirror_mode": {
    "name": "ipython",
    "version": 3
   },
   "file_extension": ".py",
   "mimetype": "text/x-python",
   "name": "python",
   "nbconvert_exporter": "python",
   "pygments_lexer": "ipython3",
   "version": "3.10.6"
  }
 },
 "nbformat": 4,
 "nbformat_minor": 2
}
