{
 "cells": [
  {
   "cell_type": "markdown",
   "metadata": {},
   "source": [
    "# Machine Learning workflow"
   ]
  },
  {
   "cell_type": "markdown",
   "metadata": {},
   "source": [
    "## Import libraries"
   ]
  },
  {
   "cell_type": "markdown",
   "metadata": {},
   "source": [
    "### all-time basics"
   ]
  },
  {
   "cell_type": "code",
   "execution_count": 12,
   "metadata": {},
   "outputs": [],
   "source": [
    "import seaborn as sns\n",
    "import pandas as pd\n",
    "import numpy as np\n",
    "import matplotlib.pyplot as plt"
   ]
  },
  {
   "cell_type": "markdown",
   "metadata": {},
   "source": [
    "### machine learning specifics"
   ]
  },
  {
   "cell_type": "code",
   "execution_count": 13,
   "metadata": {},
   "outputs": [],
   "source": [
    "from sklearn.linear_model import LinearRegression\n",
    "from sklearn.model_selection import cross_validate, cross_val_score"
   ]
  },
  {
   "cell_type": "markdown",
   "metadata": {},
   "source": [
    "## Import data"
   ]
  },
  {
   "cell_type": "markdown",
   "metadata": {},
   "source": [
    "👇 Load the `WHO_ther_eff.csv` dataset into this notebook as a pandas dataframe, and display its first 5 rows."
   ]
  },
  {
   "cell_type": "markdown",
   "metadata": {},
   "source": [
    "This dataset includes data on --- and is kindly provided by the WHO through their data download [page](https://apps.who.int/malaria/maps/threats/#/download). "
   ]
  },
  {
   "cell_type": "code",
   "execution_count": 14,
   "metadata": {},
   "outputs": [
    {
     "data": {
      "text/html": [
       "<div>\n",
       "<style scoped>\n",
       "    .dataframe tbody tr th:only-of-type {\n",
       "        vertical-align: middle;\n",
       "    }\n",
       "\n",
       "    .dataframe tbody tr th {\n",
       "        vertical-align: top;\n",
       "    }\n",
       "\n",
       "    .dataframe thead th {\n",
       "        text-align: right;\n",
       "    }\n",
       "</style>\n",
       "<table border=\"1\" class=\"dataframe\">\n",
       "  <thead>\n",
       "    <tr style=\"text-align: right;\">\n",
       "      <th></th>\n",
       "      <th>ID</th>\n",
       "      <th>COUNTRY_NAME</th>\n",
       "      <th>ISO2</th>\n",
       "      <th>ADMIN2</th>\n",
       "      <th>SITE_NAME</th>\n",
       "      <th>LATITUDE</th>\n",
       "      <th>LONGITUDE</th>\n",
       "      <th>YEAR_START</th>\n",
       "      <th>YEAR_END</th>\n",
       "      <th>DRUG_NAME</th>\n",
       "      <th>PLASMODIUM_SPECIES</th>\n",
       "      <th>SAMPLE_SIZE</th>\n",
       "      <th>FOLLOW_UP (days)</th>\n",
       "      <th>POSITIVE_DAY_3 (days)</th>\n",
       "      <th>TREATMENT_FAILURE_PP</th>\n",
       "      <th>TREATMENT_FAILURE_KM</th>\n",
       "      <th>DATA_SOURCE</th>\n",
       "      <th>CITATION_URL</th>\n",
       "    </tr>\n",
       "  </thead>\n",
       "  <tbody>\n",
       "    <tr>\n",
       "      <th>0</th>\n",
       "      <td>3</td>\n",
       "      <td>Cambodia</td>\n",
       "      <td>KH</td>\n",
       "      <td>Ratanakiri</td>\n",
       "      <td>Veun Sai</td>\n",
       "      <td>14.261043</td>\n",
       "      <td>106.794241</td>\n",
       "      <td>2010</td>\n",
       "      <td>2011</td>\n",
       "      <td>Artemether-lumefantrine</td>\n",
       "      <td>P. falciparum</td>\n",
       "      <td>60</td>\n",
       "      <td>28</td>\n",
       "      <td>3.2</td>\n",
       "      <td>5.0</td>\n",
       "      <td>4.9</td>\n",
       "      <td>National Center for Parasitology, Entomology a...</td>\n",
       "      <td>NaN</td>\n",
       "    </tr>\n",
       "    <tr>\n",
       "      <th>1</th>\n",
       "      <td>15</td>\n",
       "      <td>Cambodia</td>\n",
       "      <td>KH</td>\n",
       "      <td>Pailin Province</td>\n",
       "      <td>Pailin</td>\n",
       "      <td>12.741784</td>\n",
       "      <td>102.633104</td>\n",
       "      <td>2011</td>\n",
       "      <td>2011</td>\n",
       "      <td>Artesunate-mefloquine</td>\n",
       "      <td>P. falciparum</td>\n",
       "      <td>28</td>\n",
       "      <td>42</td>\n",
       "      <td>51.7</td>\n",
       "      <td>0.0</td>\n",
       "      <td>0.0</td>\n",
       "      <td>National Center for Parasitology, Entomology a...</td>\n",
       "      <td>NaN</td>\n",
       "    </tr>\n",
       "    <tr>\n",
       "      <th>2</th>\n",
       "      <td>23</td>\n",
       "      <td>Cambodia</td>\n",
       "      <td>KH</td>\n",
       "      <td>Pailin Province</td>\n",
       "      <td>Pailin</td>\n",
       "      <td>12.741784</td>\n",
       "      <td>102.633104</td>\n",
       "      <td>2010</td>\n",
       "      <td>2011</td>\n",
       "      <td>Dihydroartemisinin-piperaquine</td>\n",
       "      <td>P. falciparum</td>\n",
       "      <td>28</td>\n",
       "      <td>42</td>\n",
       "      <td>44.8</td>\n",
       "      <td>25.0</td>\n",
       "      <td>24.1</td>\n",
       "      <td>National Center for Parasitology, Entomology a...</td>\n",
       "      <td>NaN</td>\n",
       "    </tr>\n",
       "    <tr>\n",
       "      <th>3</th>\n",
       "      <td>24</td>\n",
       "      <td>Cambodia</td>\n",
       "      <td>KH</td>\n",
       "      <td>Pursat</td>\n",
       "      <td>Veal Veng</td>\n",
       "      <td>12.546349</td>\n",
       "      <td>103.918749</td>\n",
       "      <td>2010</td>\n",
       "      <td>2010</td>\n",
       "      <td>Dihydroartemisinin-piperaquine</td>\n",
       "      <td>P. falciparum</td>\n",
       "      <td>56</td>\n",
       "      <td>42</td>\n",
       "      <td>10.2</td>\n",
       "      <td>10.7</td>\n",
       "      <td>10.5</td>\n",
       "      <td>National Center for Parasitology, Entomology a...</td>\n",
       "      <td>NaN</td>\n",
       "    </tr>\n",
       "    <tr>\n",
       "      <th>4</th>\n",
       "      <td>25</td>\n",
       "      <td>Cambodia</td>\n",
       "      <td>KH</td>\n",
       "      <td>Ratanakiri</td>\n",
       "      <td>Veun Sai</td>\n",
       "      <td>14.261043</td>\n",
       "      <td>106.794241</td>\n",
       "      <td>2010</td>\n",
       "      <td>2010</td>\n",
       "      <td>Dihydroartemisinin-piperaquine</td>\n",
       "      <td>P. falciparum</td>\n",
       "      <td>59</td>\n",
       "      <td>42</td>\n",
       "      <td>0.0</td>\n",
       "      <td>0.0</td>\n",
       "      <td>0.0</td>\n",
       "      <td>National Center for Parasitology, Entomology a...</td>\n",
       "      <td>NaN</td>\n",
       "    </tr>\n",
       "  </tbody>\n",
       "</table>\n",
       "</div>"
      ],
      "text/plain": [
       "   ID COUNTRY_NAME ISO2           ADMIN2  SITE_NAME   LATITUDE   LONGITUDE  \\\n",
       "0   3     Cambodia   KH       Ratanakiri   Veun Sai  14.261043  106.794241   \n",
       "1  15     Cambodia   KH  Pailin Province     Pailin  12.741784  102.633104   \n",
       "2  23     Cambodia   KH  Pailin Province     Pailin  12.741784  102.633104   \n",
       "3  24     Cambodia   KH           Pursat  Veal Veng  12.546349  103.918749   \n",
       "4  25     Cambodia   KH       Ratanakiri   Veun Sai  14.261043  106.794241   \n",
       "\n",
       "   YEAR_START  YEAR_END                       DRUG_NAME PLASMODIUM_SPECIES  \\\n",
       "0        2010      2011         Artemether-lumefantrine      P. falciparum   \n",
       "1        2011      2011           Artesunate-mefloquine      P. falciparum   \n",
       "2        2010      2011  Dihydroartemisinin-piperaquine      P. falciparum   \n",
       "3        2010      2010  Dihydroartemisinin-piperaquine      P. falciparum   \n",
       "4        2010      2010  Dihydroartemisinin-piperaquine      P. falciparum   \n",
       "\n",
       "   SAMPLE_SIZE  FOLLOW_UP (days)  POSITIVE_DAY_3 (days)  TREATMENT_FAILURE_PP  \\\n",
       "0           60                28                    3.2                   5.0   \n",
       "1           28                42                   51.7                   0.0   \n",
       "2           28                42                   44.8                  25.0   \n",
       "3           56                42                   10.2                  10.7   \n",
       "4           59                42                    0.0                   0.0   \n",
       "\n",
       "   TREATMENT_FAILURE_KM                                        DATA_SOURCE  \\\n",
       "0                   4.9  National Center for Parasitology, Entomology a...   \n",
       "1                   0.0  National Center for Parasitology, Entomology a...   \n",
       "2                  24.1  National Center for Parasitology, Entomology a...   \n",
       "3                  10.5  National Center for Parasitology, Entomology a...   \n",
       "4                   0.0  National Center for Parasitology, Entomology a...   \n",
       "\n",
       "  CITATION_URL  \n",
       "0          NaN  \n",
       "1          NaN  \n",
       "2          NaN  \n",
       "3          NaN  \n",
       "4          NaN  "
      ]
     },
     "execution_count": 14,
     "metadata": {},
     "output_type": "execute_result"
    }
   ],
   "source": [
    "df = pd.read_csv(\"../data/raw/WHO_ther_eff.csv\")\n",
    "df.head()"
   ]
  },
  {
   "cell_type": "markdown",
   "metadata": {},
   "source": [
    "Now do the same with the `WHO_int_conc.csv` dataset and save as a variable named `data`."
   ]
  },
  {
   "cell_type": "code",
   "execution_count": 23,
   "metadata": {},
   "outputs": [],
   "source": [
    "# type, uncomment and run your code here"
   ]
  },
  {
   "cell_type": "markdown",
   "metadata": {},
   "source": [
    "<details><summary markdown='span'>View solution\n",
    "</summary>\n",
    "\n",
    "```python\n",
    "df = pd.read_csv(\"../data/raw/WHO_int_conc.csv\")\n",
    "df.head()\n",
    "```\n",
    "\n",
    "</details>"
   ]
  },
  {
   "cell_type": "markdown",
   "metadata": {},
   "source": [
    "This dataset includes data on --- and is kindly provided by the WHO through their data download [page](https://apps.who.int/malaria/maps/threats/#/download). "
   ]
  },
  {
   "cell_type": "markdown",
   "metadata": {},
   "source": [
    "## 0. Data Exploration and Visualisation"
   ]
  },
  {
   "cell_type": "markdown",
   "metadata": {},
   "source": [
    "Python simplifies our work by providing core functions to explore our loaded panda dataframe.\n",
    "\n",
    "👇 Run the function below to have a look at the shape of the dataset, which tells us the `(number of rows, number of columns)`."
   ]
  },
  {
   "cell_type": "code",
   "execution_count": 31,
   "metadata": {},
   "outputs": [
    {
     "data": {
      "text/plain": [
       "(468, 18)"
      ]
     },
     "execution_count": 31,
     "metadata": {},
     "output_type": "execute_result"
    }
   ],
   "source": [
    "df.shape"
   ]
  },
  {
   "cell_type": "markdown",
   "metadata": {},
   "source": [
    "The `df` dataset includes 468 columns and 18 columns."
   ]
  },
  {
   "cell_type": "markdown",
   "metadata": {},
   "source": [
    "👇 We can also peek at the first 5 rows:"
   ]
  },
  {
   "cell_type": "code",
   "execution_count": 34,
   "metadata": {},
   "outputs": [
    {
     "data": {
      "text/html": [
       "<div>\n",
       "<style scoped>\n",
       "    .dataframe tbody tr th:only-of-type {\n",
       "        vertical-align: middle;\n",
       "    }\n",
       "\n",
       "    .dataframe tbody tr th {\n",
       "        vertical-align: top;\n",
       "    }\n",
       "\n",
       "    .dataframe thead th {\n",
       "        text-align: right;\n",
       "    }\n",
       "</style>\n",
       "<table border=\"1\" class=\"dataframe\">\n",
       "  <thead>\n",
       "    <tr style=\"text-align: right;\">\n",
       "      <th></th>\n",
       "      <th>ID</th>\n",
       "      <th>COUNTRY_NAME</th>\n",
       "      <th>ISO2</th>\n",
       "      <th>ADMIN2</th>\n",
       "      <th>SITE_NAME</th>\n",
       "      <th>LATITUDE</th>\n",
       "      <th>LONGITUDE</th>\n",
       "      <th>YEAR_START</th>\n",
       "      <th>YEAR_END</th>\n",
       "      <th>DRUG_NAME</th>\n",
       "      <th>PLASMODIUM_SPECIES</th>\n",
       "      <th>SAMPLE_SIZE</th>\n",
       "      <th>FOLLOW_UP (days)</th>\n",
       "      <th>POSITIVE_DAY_3 (days)</th>\n",
       "      <th>TREATMENT_FAILURE_PP</th>\n",
       "      <th>TREATMENT_FAILURE_KM</th>\n",
       "      <th>DATA_SOURCE</th>\n",
       "      <th>CITATION_URL</th>\n",
       "    </tr>\n",
       "  </thead>\n",
       "  <tbody>\n",
       "    <tr>\n",
       "      <th>718</th>\n",
       "      <td>831</td>\n",
       "      <td>Viet Nam</td>\n",
       "      <td>VN</td>\n",
       "      <td>Binh Phuoc</td>\n",
       "      <td>Phuoc Long</td>\n",
       "      <td>11.833733</td>\n",
       "      <td>106.994895</td>\n",
       "      <td>2010</td>\n",
       "      <td>2011</td>\n",
       "      <td>Dihydroartemisinin-piperaquine</td>\n",
       "      <td>P. falciparum</td>\n",
       "      <td>51</td>\n",
       "      <td>42</td>\n",
       "      <td>22.0</td>\n",
       "      <td>0.0</td>\n",
       "      <td>0.0</td>\n",
       "      <td>Oxford University Clinical Research Unit, Well...</td>\n",
       "      <td>http://www.ncbi.nlm.nih.gov/pubmed/23101492</td>\n",
       "    </tr>\n",
       "    <tr>\n",
       "      <th>726</th>\n",
       "      <td>932</td>\n",
       "      <td>India</td>\n",
       "      <td>IN</td>\n",
       "      <td>Andhra Pradesh</td>\n",
       "      <td>Vishakhapatnam</td>\n",
       "      <td>17.686816</td>\n",
       "      <td>83.218481</td>\n",
       "      <td>2010</td>\n",
       "      <td>2010</td>\n",
       "      <td>Artesunate+sulfadoxine-pyrimethamine</td>\n",
       "      <td>P. falciparum</td>\n",
       "      <td>52</td>\n",
       "      <td>28</td>\n",
       "      <td>0.0</td>\n",
       "      <td>0.0</td>\n",
       "      <td>0.0</td>\n",
       "      <td>National Institute of Malaria Research, Indian...</td>\n",
       "      <td>http://www.ncbi.nlm.nih.gov/pubmed/23284195</td>\n",
       "    </tr>\n",
       "    <tr>\n",
       "      <th>727</th>\n",
       "      <td>933</td>\n",
       "      <td>India</td>\n",
       "      <td>IN</td>\n",
       "      <td>Chhattisgarh</td>\n",
       "      <td>Bilaspur</td>\n",
       "      <td>22.079625</td>\n",
       "      <td>82.139141</td>\n",
       "      <td>2010</td>\n",
       "      <td>2010</td>\n",
       "      <td>Artesunate+sulfadoxine-pyrimethamine</td>\n",
       "      <td>P. falciparum</td>\n",
       "      <td>67</td>\n",
       "      <td>28</td>\n",
       "      <td>0.0</td>\n",
       "      <td>0.0</td>\n",
       "      <td>0.0</td>\n",
       "      <td>National Institute of Malaria Research, Indian...</td>\n",
       "      <td>http://www.ncbi.nlm.nih.gov/pubmed/23284195</td>\n",
       "    </tr>\n",
       "    <tr>\n",
       "      <th>728</th>\n",
       "      <td>934</td>\n",
       "      <td>India</td>\n",
       "      <td>IN</td>\n",
       "      <td>Jharkhand</td>\n",
       "      <td>Dumka</td>\n",
       "      <td>24.285466</td>\n",
       "      <td>87.241930</td>\n",
       "      <td>2010</td>\n",
       "      <td>2010</td>\n",
       "      <td>Artesunate+sulfadoxine-pyrimethamine</td>\n",
       "      <td>P. falciparum</td>\n",
       "      <td>56</td>\n",
       "      <td>28</td>\n",
       "      <td>5.3</td>\n",
       "      <td>0.0</td>\n",
       "      <td>0.0</td>\n",
       "      <td>National Institute of Malaria Research, Indian...</td>\n",
       "      <td>http://www.ncbi.nlm.nih.gov/pubmed/23284195</td>\n",
       "    </tr>\n",
       "    <tr>\n",
       "      <th>729</th>\n",
       "      <td>935</td>\n",
       "      <td>India</td>\n",
       "      <td>IN</td>\n",
       "      <td>Jharkhand</td>\n",
       "      <td>Latehar</td>\n",
       "      <td>23.746322</td>\n",
       "      <td>84.509110</td>\n",
       "      <td>2010</td>\n",
       "      <td>2010</td>\n",
       "      <td>Artesunate+sulfadoxine-pyrimethamine</td>\n",
       "      <td>P. falciparum</td>\n",
       "      <td>70</td>\n",
       "      <td>28</td>\n",
       "      <td>0.0</td>\n",
       "      <td>0.0</td>\n",
       "      <td>0.0</td>\n",
       "      <td>National Institute of Malaria Research, Indian...</td>\n",
       "      <td>http://www.ncbi.nlm.nih.gov/pubmed/23284195</td>\n",
       "    </tr>\n",
       "  </tbody>\n",
       "</table>\n",
       "</div>"
      ],
      "text/plain": [
       "      ID COUNTRY_NAME ISO2          ADMIN2       SITE_NAME   LATITUDE  \\\n",
       "718  831     Viet Nam   VN      Binh Phuoc      Phuoc Long  11.833733   \n",
       "726  932        India   IN  Andhra Pradesh  Vishakhapatnam  17.686816   \n",
       "727  933        India   IN    Chhattisgarh        Bilaspur  22.079625   \n",
       "728  934        India   IN       Jharkhand           Dumka  24.285466   \n",
       "729  935        India   IN       Jharkhand         Latehar  23.746322   \n",
       "\n",
       "      LONGITUDE  YEAR_START  YEAR_END                             DRUG_NAME  \\\n",
       "718  106.994895        2010      2011        Dihydroartemisinin-piperaquine   \n",
       "726   83.218481        2010      2010  Artesunate+sulfadoxine-pyrimethamine   \n",
       "727   82.139141        2010      2010  Artesunate+sulfadoxine-pyrimethamine   \n",
       "728   87.241930        2010      2010  Artesunate+sulfadoxine-pyrimethamine   \n",
       "729   84.509110        2010      2010  Artesunate+sulfadoxine-pyrimethamine   \n",
       "\n",
       "    PLASMODIUM_SPECIES  SAMPLE_SIZE  FOLLOW_UP (days)  POSITIVE_DAY_3 (days)  \\\n",
       "718      P. falciparum           51                42                   22.0   \n",
       "726      P. falciparum           52                28                    0.0   \n",
       "727      P. falciparum           67                28                    0.0   \n",
       "728      P. falciparum           56                28                    5.3   \n",
       "729      P. falciparum           70                28                    0.0   \n",
       "\n",
       "     TREATMENT_FAILURE_PP  TREATMENT_FAILURE_KM  \\\n",
       "718                   0.0                   0.0   \n",
       "726                   0.0                   0.0   \n",
       "727                   0.0                   0.0   \n",
       "728                   0.0                   0.0   \n",
       "729                   0.0                   0.0   \n",
       "\n",
       "                                           DATA_SOURCE  \\\n",
       "718  Oxford University Clinical Research Unit, Well...   \n",
       "726  National Institute of Malaria Research, Indian...   \n",
       "727  National Institute of Malaria Research, Indian...   \n",
       "728  National Institute of Malaria Research, Indian...   \n",
       "729  National Institute of Malaria Research, Indian...   \n",
       "\n",
       "                                    CITATION_URL  \n",
       "718  http://www.ncbi.nlm.nih.gov/pubmed/23101492  \n",
       "726  http://www.ncbi.nlm.nih.gov/pubmed/23284195  \n",
       "727  http://www.ncbi.nlm.nih.gov/pubmed/23284195  \n",
       "728  http://www.ncbi.nlm.nih.gov/pubmed/23284195  \n",
       "729  http://www.ncbi.nlm.nih.gov/pubmed/23284195  "
      ]
     },
     "execution_count": 34,
     "metadata": {},
     "output_type": "execute_result"
    }
   ],
   "source": [
    "df.head()"
   ]
  },
  {
   "cell_type": "markdown",
   "metadata": {},
   "source": [
    "👇 Run the function below to get a quick glance at the whole dataset. "
   ]
  },
  {
   "cell_type": "code",
   "execution_count": 24,
   "metadata": {},
   "outputs": [
    {
     "data": {
      "text/html": [
       "<div>\n",
       "<style scoped>\n",
       "    .dataframe tbody tr th:only-of-type {\n",
       "        vertical-align: middle;\n",
       "    }\n",
       "\n",
       "    .dataframe tbody tr th {\n",
       "        vertical-align: top;\n",
       "    }\n",
       "\n",
       "    .dataframe thead th {\n",
       "        text-align: right;\n",
       "    }\n",
       "</style>\n",
       "<table border=\"1\" class=\"dataframe\">\n",
       "  <thead>\n",
       "    <tr style=\"text-align: right;\">\n",
       "      <th></th>\n",
       "      <th>ID</th>\n",
       "      <th>LATITUDE</th>\n",
       "      <th>LONGITUDE</th>\n",
       "      <th>YEAR_START</th>\n",
       "      <th>YEAR_END</th>\n",
       "      <th>SAMPLE_SIZE</th>\n",
       "      <th>FOLLOW_UP (days)</th>\n",
       "      <th>POSITIVE_DAY_3 (days)</th>\n",
       "      <th>TREATMENT_FAILURE_PP</th>\n",
       "      <th>TREATMENT_FAILURE_KM</th>\n",
       "    </tr>\n",
       "  </thead>\n",
       "  <tbody>\n",
       "    <tr>\n",
       "      <th>count</th>\n",
       "      <td>1548.000000</td>\n",
       "      <td>1548.000000</td>\n",
       "      <td>1548.000000</td>\n",
       "      <td>1548.000000</td>\n",
       "      <td>1548.000000</td>\n",
       "      <td>1548.000000</td>\n",
       "      <td>1548.000000</td>\n",
       "      <td>1099.000000</td>\n",
       "      <td>1539.000000</td>\n",
       "      <td>1311.000000</td>\n",
       "    </tr>\n",
       "    <tr>\n",
       "      <th>mean</th>\n",
       "      <td>6259.748062</td>\n",
       "      <td>9.264416</td>\n",
       "      <td>51.964234</td>\n",
       "      <td>2014.347545</td>\n",
       "      <td>2015.127261</td>\n",
       "      <td>64.946382</td>\n",
       "      <td>31.029716</td>\n",
       "      <td>5.297015</td>\n",
       "      <td>2.635510</td>\n",
       "      <td>2.097101</td>\n",
       "    </tr>\n",
       "    <tr>\n",
       "      <th>std</th>\n",
       "      <td>10290.433519</td>\n",
       "      <td>11.959622</td>\n",
       "      <td>48.848968</td>\n",
       "      <td>3.058894</td>\n",
       "      <td>2.977608</td>\n",
       "      <td>69.238085</td>\n",
       "      <td>5.767003</td>\n",
       "      <td>12.735953</td>\n",
       "      <td>7.365779</td>\n",
       "      <td>7.014991</td>\n",
       "    </tr>\n",
       "    <tr>\n",
       "      <th>min</th>\n",
       "      <td>3.000000</td>\n",
       "      <td>-25.392301</td>\n",
       "      <td>-77.266667</td>\n",
       "      <td>2010.000000</td>\n",
       "      <td>2010.000000</td>\n",
       "      <td>1.000000</td>\n",
       "      <td>28.000000</td>\n",
       "      <td>0.000000</td>\n",
       "      <td>0.000000</td>\n",
       "      <td>0.000000</td>\n",
       "    </tr>\n",
       "    <tr>\n",
       "      <th>25%</th>\n",
       "      <td>1108.750000</td>\n",
       "      <td>2.500000</td>\n",
       "      <td>12.032778</td>\n",
       "      <td>2012.000000</td>\n",
       "      <td>2013.000000</td>\n",
       "      <td>34.000000</td>\n",
       "      <td>28.000000</td>\n",
       "      <td>0.000000</td>\n",
       "      <td>0.000000</td>\n",
       "      <td>0.000000</td>\n",
       "    </tr>\n",
       "    <tr>\n",
       "      <th>50%</th>\n",
       "      <td>1586.500000</td>\n",
       "      <td>11.771389</td>\n",
       "      <td>38.916667</td>\n",
       "      <td>2014.000000</td>\n",
       "      <td>2015.000000</td>\n",
       "      <td>58.000000</td>\n",
       "      <td>28.000000</td>\n",
       "      <td>0.000000</td>\n",
       "      <td>0.000000</td>\n",
       "      <td>0.000000</td>\n",
       "    </tr>\n",
       "    <tr>\n",
       "      <th>75%</th>\n",
       "      <td>1984.250000</td>\n",
       "      <td>14.925213</td>\n",
       "      <td>98.552875</td>\n",
       "      <td>2017.000000</td>\n",
       "      <td>2017.000000</td>\n",
       "      <td>81.000000</td>\n",
       "      <td>28.000000</td>\n",
       "      <td>2.550000</td>\n",
       "      <td>2.400000</td>\n",
       "      <td>1.600000</td>\n",
       "    </tr>\n",
       "    <tr>\n",
       "      <th>max</th>\n",
       "      <td>50024.000000</td>\n",
       "      <td>39.797406</td>\n",
       "      <td>168.270395</td>\n",
       "      <td>2023.000000</td>\n",
       "      <td>2023.000000</td>\n",
       "      <td>1668.000000</td>\n",
       "      <td>42.000000</td>\n",
       "      <td>93.800000</td>\n",
       "      <td>100.000000</td>\n",
       "      <td>100.000000</td>\n",
       "    </tr>\n",
       "  </tbody>\n",
       "</table>\n",
       "</div>"
      ],
      "text/plain": [
       "                 ID     LATITUDE    LONGITUDE   YEAR_START     YEAR_END  \\\n",
       "count   1548.000000  1548.000000  1548.000000  1548.000000  1548.000000   \n",
       "mean    6259.748062     9.264416    51.964234  2014.347545  2015.127261   \n",
       "std    10290.433519    11.959622    48.848968     3.058894     2.977608   \n",
       "min        3.000000   -25.392301   -77.266667  2010.000000  2010.000000   \n",
       "25%     1108.750000     2.500000    12.032778  2012.000000  2013.000000   \n",
       "50%     1586.500000    11.771389    38.916667  2014.000000  2015.000000   \n",
       "75%     1984.250000    14.925213    98.552875  2017.000000  2017.000000   \n",
       "max    50024.000000    39.797406   168.270395  2023.000000  2023.000000   \n",
       "\n",
       "       SAMPLE_SIZE  FOLLOW_UP (days)  POSITIVE_DAY_3 (days)  \\\n",
       "count  1548.000000       1548.000000            1099.000000   \n",
       "mean     64.946382         31.029716               5.297015   \n",
       "std      69.238085          5.767003              12.735953   \n",
       "min       1.000000         28.000000               0.000000   \n",
       "25%      34.000000         28.000000               0.000000   \n",
       "50%      58.000000         28.000000               0.000000   \n",
       "75%      81.000000         28.000000               2.550000   \n",
       "max    1668.000000         42.000000              93.800000   \n",
       "\n",
       "       TREATMENT_FAILURE_PP  TREATMENT_FAILURE_KM  \n",
       "count           1539.000000           1311.000000  \n",
       "mean               2.635510              2.097101  \n",
       "std                7.365779              7.014991  \n",
       "min                0.000000              0.000000  \n",
       "25%                0.000000              0.000000  \n",
       "50%                0.000000              0.000000  \n",
       "75%                2.400000              1.600000  \n",
       "max              100.000000            100.000000  "
      ]
     },
     "execution_count": 24,
     "metadata": {},
     "output_type": "execute_result"
    }
   ],
   "source": [
    "df.describe()"
   ]
  },
  {
   "cell_type": "markdown",
   "metadata": {},
   "source": [
    "👇 Run the function below to get a quick glance at a specific column. "
   ]
  },
  {
   "cell_type": "code",
   "execution_count": 27,
   "metadata": {},
   "outputs": [
    {
     "data": {
      "text/plain": [
       "count    1548.000000\n",
       "mean       64.946382\n",
       "std        69.238085\n",
       "min         1.000000\n",
       "25%        34.000000\n",
       "50%        58.000000\n",
       "75%        81.000000\n",
       "max      1668.000000\n",
       "Name: SAMPLE_SIZE, dtype: float64"
      ]
     },
     "execution_count": 27,
     "metadata": {},
     "output_type": "execute_result"
    }
   ],
   "source": [
    "df[\"SAMPLE_SIZE\"].describe()"
   ]
  },
  {
   "cell_type": "markdown",
   "metadata": {},
   "source": [
    "❓How would you look at the details of the YEAR_START column?"
   ]
  },
  {
   "cell_type": "code",
   "execution_count": 26,
   "metadata": {},
   "outputs": [],
   "source": [
    "# type, uncomment and run your code here"
   ]
  },
  {
   "cell_type": "markdown",
   "metadata": {},
   "source": [
    "<details><summary markdown='span'>View solution\n",
    "</summary>\n",
    "\n",
    "```python\n",
    "df[\"YEAR_START\"].describe()\n",
    "```\n",
    "\n",
    "</details>"
   ]
  },
  {
   "cell_type": "markdown",
   "metadata": {},
   "source": [
    "❓How many ---- are there in this dataset?"
   ]
  },
  {
   "cell_type": "code",
   "execution_count": 28,
   "metadata": {},
   "outputs": [],
   "source": [
    "# df['TODO'].nunique()"
   ]
  },
  {
   "cell_type": "markdown",
   "metadata": {},
   "source": [
    "❓How many observations for each category are there in the dataset?"
   ]
  },
  {
   "cell_type": "code",
   "execution_count": 29,
   "metadata": {},
   "outputs": [],
   "source": [
    "# df['TODO'].value_counts()"
   ]
  },
  {
   "cell_type": "markdown",
   "metadata": {},
   "source": [
    "A good practice is to plot the data to understand better the relationship between the different variables. \n",
    "\n",
    "👇 Run the function below to create a scatterplot."
   ]
  },
  {
   "cell_type": "code",
   "execution_count": 49,
   "metadata": {},
   "outputs": [
    {
     "data": {
      "image/png": "[encoded data removed]",
      "text/plain": [
       "<Figure size 640x480 with 1 Axes>"
      ]
     },
     "metadata": {},
     "output_type": "display_data"
    }
   ],
   "source": [
    "sns.scatterplot(x='TREATMENT_FAILURE_KM', y='POSITIVE_DAY_3 (days)', data=df, size='SAMPLE_SIZE', alpha=0.5);"
   ]
  },
  {
   "cell_type": "code",
   "execution_count": null,
   "metadata": {},
   "outputs": [],
   "source": [
    "# Plot like a pro - let's see all the relationships between our columns\n",
    "sns.pairplot(penguin_df, hue=\"species\", corner = True);"
   ]
  },
  {
   "cell_type": "markdown",
   "metadata": {},
   "source": [
    "## 1. Data cleaning"
   ]
  },
  {
   "cell_type": "markdown",
   "metadata": {},
   "source": [
    "Before using the dataset, we need to make sure it is usable. \n",
    "\n",
    "👇 First, we clean all the NA (Non Applicable) values."
   ]
  },
  {
   "cell_type": "code",
   "execution_count": 30,
   "metadata": {},
   "outputs": [],
   "source": [
    "df.dropna(inplace=True)"
   ]
  },
  {
   "cell_type": "markdown",
   "metadata": {},
   "source": [
    "👇 Then, we remove all duplicate values."
   ]
  },
  {
   "cell_type": "code",
   "execution_count": null,
   "metadata": {},
   "outputs": [],
   "source": [
    "df = df.drop_duplicates()"
   ]
  },
  {
   "cell_type": "markdown",
   "metadata": {},
   "source": [
    "In real life, cleaning data includes a lot more steps and can get tricky.\n",
    "\n",
    "Cleaning and preprocessing data can be the longest part of the process and can be considered the most important one. "
   ]
  },
  {
   "cell_type": "markdown",
   "metadata": {},
   "source": [
    "## 2. Train"
   ]
  },
  {
   "cell_type": "markdown",
   "metadata": {},
   "source": [
    "Let's start the machine learning specifics."
   ]
  },
  {
   "cell_type": "markdown",
   "metadata": {},
   "source": [
    "### Choosing your model"
   ]
  },
  {
   "cell_type": "markdown",
   "metadata": {},
   "source": [
    "We start with the easiest model of them all: the linear regression, imported at the beginning on the notebook from the [Scikit-Learn](https://scikit-learn.org) library. "
   ]
  },
  {
   "cell_type": "markdown",
   "metadata": {},
   "source": [
    "<details><summary markdown='span'>Additional info\n",
    "</summary>\n",
    "\n",
    "  Scikit-Learn is an open source, well documentted and honestly life saving initiative for all mahcine learning enthusiasts. \n",
    "  Do not hesitate to read their [documentation](https://scikit-learn.org/stable/user_guide.html) and explore their [tutorials](https://scikit-learn.org/stable/auto_examples/index.html). \n",
    "\n",
    "  A linear regression is a mathematical model that can be written as f(x) = ax + b\n",
    "  where a is the slope and b is the intercept. \n",
    "</details>\n"
   ]
  },
  {
   "cell_type": "code",
   "execution_count": 50,
   "metadata": {},
   "outputs": [],
   "source": [
    "model = LinearRegression()"
   ]
  },
  {
   "cell_type": "markdown",
   "metadata": {},
   "source": [
    "The model is now loaded under the `model` variable as shown by the cell below:"
   ]
  },
  {
   "cell_type": "code",
   "execution_count": 51,
   "metadata": {},
   "outputs": [
    {
     "data": {
      "text/html": [
       "<style>#sk-container-id-1 {color: black;}#sk-container-id-1 pre{padding: 0;}#sk-container-id-1 div.sk-toggleable {background-color: white;}#sk-container-id-1 label.sk-toggleable__label {cursor: pointer;display: block;width: 100%;margin-bottom: 0;padding: 0.3em;box-sizing: border-box;text-align: center;}#sk-container-id-1 label.sk-toggleable__label-arrow:before {content: \"▸\";float: left;margin-right: 0.25em;color: #696969;}#sk-container-id-1 label.sk-toggleable__label-arrow:hover:before {color: black;}#sk-container-id-1 div.sk-estimator:hover label.sk-toggleable__label-arrow:before {color: black;}#sk-container-id-1 div.sk-toggleable__content {max-height: 0;max-width: 0;overflow: hidden;text-align: left;background-color: #f0f8ff;}#sk-container-id-1 div.sk-toggleable__content pre {margin: 0.2em;color: black;border-radius: 0.25em;background-color: #f0f8ff;}#sk-container-id-1 input.sk-toggleable__control:checked~div.sk-toggleable__content {max-height: 200px;max-width: 100%;overflow: auto;}#sk-container-id-1 input.sk-toggleable__control:checked~label.sk-toggleable__label-arrow:before {content: \"▾\";}#sk-container-id-1 div.sk-estimator input.sk-toggleable__control:checked~label.sk-toggleable__label {background-color: #d4ebff;}#sk-container-id-1 div.sk-label input.sk-toggleable__control:checked~label.sk-toggleable__label {background-color: #d4ebff;}#sk-container-id-1 input.sk-hidden--visually {border: 0;clip: rect(1px 1px 1px 1px);clip: rect(1px, 1px, 1px, 1px);height: 1px;margin: -1px;overflow: hidden;padding: 0;position: absolute;width: 1px;}#sk-container-id-1 div.sk-estimator {font-family: monospace;background-color: #f0f8ff;border: 1px dotted black;border-radius: 0.25em;box-sizing: border-box;margin-bottom: 0.5em;}#sk-container-id-1 div.sk-estimator:hover {background-color: #d4ebff;}#sk-container-id-1 div.sk-parallel-item::after {content: \"\";width: 100%;border-bottom: 1px solid gray;flex-grow: 1;}#sk-container-id-1 div.sk-label:hover label.sk-toggleable__label {background-color: #d4ebff;}#sk-container-id-1 div.sk-serial::before {content: \"\";position: absolute;border-left: 1px solid gray;box-sizing: border-box;top: 0;bottom: 0;left: 50%;z-index: 0;}#sk-container-id-1 div.sk-serial {display: flex;flex-direction: column;align-items: center;background-color: white;padding-right: 0.2em;padding-left: 0.2em;position: relative;}#sk-container-id-1 div.sk-item {position: relative;z-index: 1;}#sk-container-id-1 div.sk-parallel {display: flex;align-items: stretch;justify-content: center;background-color: white;position: relative;}#sk-container-id-1 div.sk-item::before, #sk-container-id-1 div.sk-parallel-item::before {content: \"\";position: absolute;border-left: 1px solid gray;box-sizing: border-box;top: 0;bottom: 0;left: 50%;z-index: -1;}#sk-container-id-1 div.sk-parallel-item {display: flex;flex-direction: column;z-index: 1;position: relative;background-color: white;}#sk-container-id-1 div.sk-parallel-item:first-child::after {align-self: flex-end;width: 50%;}#sk-container-id-1 div.sk-parallel-item:last-child::after {align-self: flex-start;width: 50%;}#sk-container-id-1 div.sk-parallel-item:only-child::after {width: 0;}#sk-container-id-1 div.sk-dashed-wrapped {border: 1px dashed gray;margin: 0 0.4em 0.5em 0.4em;box-sizing: border-box;padding-bottom: 0.4em;background-color: white;}#sk-container-id-1 div.sk-label label {font-family: monospace;font-weight: bold;display: inline-block;line-height: 1.2em;}#sk-container-id-1 div.sk-label-container {text-align: center;}#sk-container-id-1 div.sk-container {/* jupyter's `normalize.less` sets `[hidden] { display: none; }` but bootstrap.min.css set `[hidden] { display: none !important; }` so we also need the `!important` here to be able to override the default hidden behavior on the sphinx rendered scikit-learn.org. See: https://github.com/scikit-learn/scikit-learn/issues/21755 */display: inline-block !important;position: relative;}#sk-container-id-1 div.sk-text-repr-fallback {display: none;}</style><div id=\"sk-container-id-1\" class=\"sk-top-container\"><div class=\"sk-text-repr-fallback\"><pre>LinearRegression()</pre><b>In a Jupyter environment, please rerun this cell to show the HTML representation or trust the notebook. <br />On GitHub, the HTML representation is unable to render, please try loading this page with nbviewer.org.</b></div><div class=\"sk-container\" hidden><div class=\"sk-item\"><div class=\"sk-estimator sk-toggleable\"><input class=\"sk-toggleable__control sk-hidden--visually\" id=\"sk-estimator-id-1\" type=\"checkbox\" checked><label for=\"sk-estimator-id-1\" class=\"sk-toggleable__label sk-toggleable__label-arrow\">LinearRegression</label><div class=\"sk-toggleable__content\"><pre>LinearRegression()</pre></div></div></div></div></div>"
      ],
      "text/plain": [
       "LinearRegression()"
      ]
     },
     "execution_count": 51,
     "metadata": {},
     "output_type": "execute_result"
    }
   ],
   "source": [
    "model"
   ]
  },
  {
   "cell_type": "markdown",
   "metadata": {},
   "source": [
    "### Defining the features and the target"
   ]
  },
  {
   "cell_type": "code",
   "execution_count": 17,
   "metadata": {},
   "outputs": [],
   "source": [
    "X = df[['TBD']]\n",
    "y = df[['TBD']]\n",
    "\n",
    "plt.scatter(X, y, alpha = .2)"
   ]
  },
  {
   "cell_type": "markdown",
   "metadata": {},
   "source": [
    "### Fitting your model"
   ]
  },
  {
   "cell_type": "code",
   "execution_count": null,
   "metadata": {},
   "outputs": [],
   "source": [
    "model1 = model.fit(X, y)"
   ]
  },
  {
   "cell_type": "markdown",
   "metadata": {},
   "source": [
    "<details>\n",
    "<summary> Solution </summary>\n",
    "\n",
    "</details>"
   ]
  },
  {
   "cell_type": "markdown",
   "metadata": {},
   "source": [
    "## 2. Cross-Validation"
   ]
  },
  {
   "cell_type": "markdown",
   "metadata": {},
   "source": [
    "Cross-validation does not train a model, it evaluates a hypothetical model on the dataset. If you want to use the model to, for example, make predictions, you will need to train it outside of the cross-validation.\n",
    "\n",
    "❓ Go ahead and train the model on the full `X` and `y` (as we've already validated the model's score, and now will use it to predict). Save the trained model under the variable `model`."
   ]
  },
  {
   "cell_type": "markdown",
   "metadata": {},
   "source": [
    "## 3. Predict"
   ]
  },
  {
   "cell_type": "markdown",
   "metadata": {},
   "source": [
    "## 5. Improving the Model with More Features"
   ]
  },
  {
   "cell_type": "markdown",
   "metadata": {},
   "source": [
    "Your friend who enjoys the NBA fantasy league comes to you with some insights 🏀\n",
    "\n",
    "They say that when evaluating a player's Wins Above Replacement rating, they would typically also look at the number of ball possessions (`poss`), their defense/offense ratio, and their pacing."
   ]
  },
  {
   "cell_type": "markdown",
   "metadata": {},
   "source": [
    "❓ Visualize the correlation between these new features and the `win_rating`. You can use `matplotlib` or `seaborn`. Which **one** of the above features would you consider adding to your model?"
   ]
  },
  {
   "cell_type": "markdown",
   "metadata": {},
   "source": [
    "<details>\n",
    "    <summary>💡 Click here for a hint</summary>\n",
    "    A seaborn <code>regplot</code> might be very handy here.\n",
    "</details>"
   ]
  },
  {
   "cell_type": "markdown",
   "metadata": {},
   "source": [
    "## 4. "
   ]
  },
  {
   "cell_type": "code",
   "execution_count": null,
   "metadata": {},
   "outputs": [],
   "source": []
  }
 ],
 "metadata": {
  "kernelspec": {
   "display_name": "Python 3",
   "language": "python",
   "name": "python3"
  },
  "language_info": {
   "codemirror_mode": {
    "name": "ipython",
    "version": 3
   },
   "file_extension": ".py",
   "mimetype": "text/x-python",
   "name": "python",
   "nbconvert_exporter": "python",
   "pygments_lexer": "ipython3",
   "version": "3.10.6"
  }
 },
 "nbformat": 4,
 "nbformat_minor": 2
}
